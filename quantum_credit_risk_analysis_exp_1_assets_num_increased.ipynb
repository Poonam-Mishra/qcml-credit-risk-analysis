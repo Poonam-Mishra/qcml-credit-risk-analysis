{
 "cells": [
  {
   "cell_type": "code",
   "execution_count": 60,
   "id": "46606705",
   "metadata": {},
   "outputs": [],
   "source": [
    "import numpy as np\n",
    "import matplotlib.pyplot as plt\n",
    "\n",
    "from qiskit import QuantumRegister, QuantumCircuit\n",
    "from qiskit.circuit.library import IntegerComparator\n",
    "from qiskit.algorithms import IterativeAmplitudeEstimation, EstimationProblem, MaximumLikelihoodAmplitudeEstimation,FasterAmplitudeEstimation\n",
    "from qiskit_aer.primitives import Sampler"
   ]
  },
  {
   "cell_type": "code",
   "execution_count": 22,
   "id": "5caf6f4b",
   "metadata": {},
   "outputs": [],
   "source": [
    "# set problem parameters\n",
    "q = 2\n",
    "z_max = 2\n",
    "z_values = np.linspace(-z_max, z_max, 2**q)\n",
    "prob_default_k = [0.15, 0.25,0.56,0.3]#considering 4 assets\n",
    "sens_default_z = [0.1, 0.05,0.03, 0.4]\n",
    "loss_given_default_k = [1, 2,3,4]\n",
    "num_assets = len(prob_default_k)\n",
    "alpha = 0.05"
   ]
  },
  {
   "cell_type": "code",
   "execution_count": 23,
   "id": "0c4d87aa",
   "metadata": {},
   "outputs": [],
   "source": [
    "#pip install 'qiskit[finance]'"
   ]
  },
  {
   "cell_type": "code",
   "execution_count": 24,
   "id": "3e2fb4e3",
   "metadata": {},
   "outputs": [],
   "source": [
    "from qiskit_finance.circuit.library import GaussianConditionalIndependenceModel as GCI\n",
    "\n",
    "uncertainty_model = GCI(q, z_max, prob_default_k, sens_default_z)\n"
   ]
  },
  {
   "cell_type": "code",
   "execution_count": 25,
   "id": "7017bf0a",
   "metadata": {},
   "outputs": [
    {
     "data": {
      "text/html": [
       "<pre style=\"word-wrap: normal;white-space: pre;background: #fff0;line-height: 1.1;font-family: &quot;Courier New&quot;,Courier,monospace\">     ┌───────┐\n",
       "q_0: ┤0      ├\n",
       "     │       │\n",
       "q_1: ┤1      ├\n",
       "     │       │\n",
       "q_2: ┤2      ├\n",
       "     │  P(X) │\n",
       "q_3: ┤3      ├\n",
       "     │       │\n",
       "q_4: ┤4      ├\n",
       "     │       │\n",
       "q_5: ┤5      ├\n",
       "     └───────┘</pre>"
      ],
      "text/plain": [
       "     ┌───────┐\n",
       "q_0: ┤0      ├\n",
       "     │       │\n",
       "q_1: ┤1      ├\n",
       "     │       │\n",
       "q_2: ┤2      ├\n",
       "     │  P(X) │\n",
       "q_3: ┤3      ├\n",
       "     │       │\n",
       "q_4: ┤4      ├\n",
       "     │       │\n",
       "q_5: ┤5      ├\n",
       "     └───────┘"
      ]
     },
     "execution_count": 25,
     "metadata": {},
     "output_type": "execute_result"
    }
   ],
   "source": [
    "uncertainty_model.draw()"
   ]
  },
  {
   "cell_type": "code",
   "execution_count": 26,
   "id": "15a54a90",
   "metadata": {},
   "outputs": [
    {
     "name": "stdout",
     "output_type": "stream",
     "text": [
      "{'101010': 0.001953125, '110110': 0.0009765625, '000100': 0.0009765625, '001101': 0.0029296875, '111100': 0.00390625, '111010': 0.005859375, '001000': 0.001953125, '110100': 0.0107421875, '011110': 0.0029296875, '010000': 0.0009765625, '100110': 0.005859375, '100100': 0.0029296875, '010001': 0.07421875, '010110': 0.0087890625, '000001': 0.0615234375, '100101': 0.0146484375, '100000': 0.0048828125, '111101': 0.0087890625, '011100': 0.001953125, '001001': 0.017578125, '001011': 0.005859375, '011011': 0.0029296875, '101101': 0.0048828125, '101000': 0.005859375, '001010': 0.03515625, '011001': 0.0390625, '111001': 0.0224609375, '100001': 0.0380859375, '000101': 0.013671875, '011101': 0.0126953125, '110001': 0.0625, '011000': 0.0029296875, '010100': 0.0029296875, '000010': 0.1455078125, '111000': 0.009765625, '110000': 0.015625, '011010': 0.0390625, '110010': 0.0126953125, '110101': 0.021484375, '101100': 0.00390625, '101001': 0.017578125, '000011': 0.04296875, '000110': 0.009765625, '100010': 0.0166015625, '010101': 0.015625, '001110': 0.001953125, '010011': 0.0302734375, '010010': 0.1337890625}\n",
      "SamplerResult(quasi_dists=[{42: 0.001953125, 54: 0.0009765625, 4: 0.0009765625, 13: 0.0029296875, 60: 0.00390625, 58: 0.005859375, 8: 0.001953125, 52: 0.0107421875, 30: 0.0029296875, 16: 0.0009765625, 38: 0.005859375, 36: 0.0029296875, 17: 0.07421875, 22: 0.0087890625, 1: 0.0615234375, 37: 0.0146484375, 32: 0.0048828125, 61: 0.0087890625, 28: 0.001953125, 9: 0.017578125, 11: 0.005859375, 27: 0.0029296875, 45: 0.0048828125, 40: 0.005859375, 10: 0.03515625, 25: 0.0390625, 57: 0.0224609375, 33: 0.0380859375, 5: 0.013671875, 29: 0.0126953125, 49: 0.0625, 24: 0.0029296875, 20: 0.0029296875, 2: 0.1455078125, 56: 0.009765625, 48: 0.015625, 26: 0.0390625, 50: 0.0126953125, 53: 0.021484375, 44: 0.00390625, 41: 0.017578125, 3: 0.04296875, 6: 0.009765625, 34: 0.0166015625, 21: 0.015625, 14: 0.001953125, 19: 0.0302734375, 18: 0.1337890625}], metadata=[{'shots': 1024, 'simulator_metadata': {'parallel_state_update': 10, 'parallel_shots': 1, 'sample_measure_time': 0.000684125, 'noise': 'ideal', 'batched_shots_optimization': False, 'remapped_qubits': False, 'device': 'CPU', 'active_input_qubits': [0, 1, 2, 3, 4, 5], 'measure_sampling': True, 'num_clbits': 6, 'input_qubit_map': [[5, 5], [4, 4], [3, 3], [2, 2], [1, 1], [0, 0]], 'num_qubits': 6, 'method': 'statevector', 'fusion': {'applied': False, 'max_fused_qubits': 5, 'threshold': 14, 'enabled': True}}}])\n"
     ]
    }
   ],
   "source": [
    "uncertainty_measure = uncertainty_model.measure_all(inplace=False)\n",
    "sampler = Sampler()\n",
    "job = sampler.run(uncertainty_measure)\n",
    "binary_probabilities = job.result().quasi_dists[0].binary_probabilities()\n",
    "print(binary_probabilities)\n",
    "print(job.result())"
   ]
  },
  {
   "cell_type": "code",
   "execution_count": 27,
   "id": "e525dfd7",
   "metadata": {},
   "outputs": [
    {
     "name": "stdout",
     "output_type": "stream",
     "text": [
      "48\n",
      "dict_items([('101010', 0.001953125), ('110110', 0.0009765625), ('000100', 0.0009765625), ('001101', 0.0029296875), ('111100', 0.00390625), ('111010', 0.005859375), ('001000', 0.001953125), ('110100', 0.0107421875), ('011110', 0.0029296875), ('010000', 0.0009765625), ('100110', 0.005859375), ('100100', 0.0029296875), ('010001', 0.07421875), ('010110', 0.0087890625), ('000001', 0.0615234375), ('100101', 0.0146484375), ('100000', 0.0048828125), ('111101', 0.0087890625), ('011100', 0.001953125), ('001001', 0.017578125), ('001011', 0.005859375), ('011011', 0.0029296875), ('101101', 0.0048828125), ('101000', 0.005859375), ('001010', 0.03515625), ('011001', 0.0390625), ('111001', 0.0224609375), ('100001', 0.0380859375), ('000101', 0.013671875), ('011101', 0.0126953125), ('110001', 0.0625), ('011000', 0.0029296875), ('010100', 0.0029296875), ('000010', 0.1455078125), ('111000', 0.009765625), ('110000', 0.015625), ('011010', 0.0390625), ('110010', 0.0126953125), ('110101', 0.021484375), ('101100', 0.00390625), ('101001', 0.017578125), ('000011', 0.04296875), ('000110', 0.009765625), ('100010', 0.0166015625), ('010101', 0.015625), ('001110', 0.001953125), ('010011', 0.0302734375), ('010010', 0.1337890625)])\n"
     ]
    }
   ],
   "source": [
    "print(len(binary_probabilities))\n",
    "print(binary_probabilities.items())"
   ]
  },
  {
   "cell_type": "code",
   "execution_count": 28,
   "id": "5286d0e7",
   "metadata": {},
   "outputs": [
    {
     "data": {
      "text/plain": [
       "array([0., 0., 0., 0.])"
      ]
     },
     "execution_count": 28,
     "metadata": {},
     "output_type": "execute_result"
    }
   ],
   "source": [
    "np.zeros(2**q)"
   ]
  },
  {
   "cell_type": "code",
   "execution_count": 29,
   "id": "6b2072a7",
   "metadata": {},
   "outputs": [
    {
     "name": "stdout",
     "output_type": "stream",
     "text": [
      "values [ 6  8  1  3 10  9  2  8  6  3  5  5  3  4  0  5  4 10  6  2  2  5  7  6\n",
      "  2  5  9  4  1  6  7  5  4  0  9  7  5  7  8  7  6  0  1  4  4  3  3  3]\n",
      "probabilities [0.00195312 0.00097656 0.00097656 0.00292969 0.00390625 0.00585938\n",
      " 0.00195312 0.01074219 0.00292969 0.00097656 0.00585938 0.00292969\n",
      " 0.07421875 0.00878906 0.06152344 0.01464844 0.00488281 0.00878906\n",
      " 0.00195312 0.01757812 0.00585938 0.00292969 0.00488281 0.00585938\n",
      " 0.03515625 0.0390625  0.02246094 0.03808594 0.01367188 0.01269531\n",
      " 0.0625     0.00292969 0.00292969 0.14550781 0.00976562 0.015625\n",
      " 0.0390625  0.01269531 0.02148438 0.00390625 0.01757812 0.04296875\n",
      " 0.00976562 0.01660156 0.015625   0.00195312 0.03027344 0.13378906]\n",
      "expected_loss 3.453125\n",
      "losses [ 0  1  2  3  4  5  6  7  8  9 10]\n"
     ]
    }
   ],
   "source": [
    "# analyze uncertainty circuit and determine exact solutions\n",
    "p_z = np.zeros(2**q)\n",
    "p_default = np.zeros(num_assets)\n",
    "values = []\n",
    "probabilities = []\n",
    "num_qubits = uncertainty_model.num_qubits\n",
    "\n",
    "for i, prob in binary_probabilities.items():\n",
    "    # extract value of Z and corresponding probability\n",
    "    i_normal = int(i[-q:], 2)\n",
    "    p_z[i_normal] += prob\n",
    "\n",
    "    # determine overall default probability for k\n",
    "    loss = 0\n",
    "    for k in range(num_assets):\n",
    "        if i[num_assets - k - 1] == \"1\":\n",
    "            p_default[k] += prob\n",
    "            loss += loss_given_default_k[k]\n",
    "\n",
    "    values += [loss]\n",
    "    probabilities += [prob]\n",
    "\n",
    "\n",
    "values = np.array(values)\n",
    "probabilities = np.array(probabilities)\n",
    "\n",
    "print(\"values\", values)\n",
    "print(\"probabilities\", probabilities)\n",
    "expected_loss = np.dot(values, probabilities)\n",
    "losses = np.sort(np.unique(values))\n",
    "\n",
    "print(\"expected_loss\", expected_loss)\n",
    "print(\"losses\", losses)\n",
    "\n",
    "pdf = np.zeros(len(losses))\n",
    "for i, v in enumerate(losses):\n",
    "    pdf[i] += sum(probabilities[values == v])\n",
    "cdf = np.cumsum(pdf)\n",
    "\n",
    "i_var = np.argmax(cdf >= 1 - alpha)#returns indices of the max element of the array in a particular axis.\n",
    "exact_var = losses[i_var]#max loss\n",
    "exact_cvar = np.dot(pdf[(i_var + 1) :], losses[(i_var + 1) :]) / sum(pdf[(i_var + 1) :])"
   ]
  },
  {
   "cell_type": "code",
   "execution_count": 30,
   "id": "a8fbf383",
   "metadata": {},
   "outputs": [
    {
     "name": "stdout",
     "output_type": "stream",
     "text": [
      "48\n"
     ]
    }
   ],
   "source": [
    "print(len(values))"
   ]
  },
  {
   "cell_type": "code",
   "execution_count": 31,
   "id": "792a4e0f",
   "metadata": {},
   "outputs": [
    {
     "name": "stdout",
     "output_type": "stream",
     "text": [
      "Expected Loss E[L]:                3.4531\n",
      "Value at Risk VaR[L]:              9.0000\n",
      "P[L <= VaR[L]]:                    0.9873\n",
      "Conditional Value at Risk CVaR[L]: 10.0000\n"
     ]
    }
   ],
   "source": [
    "print(\"Expected Loss E[L]:                %.4f\" % expected_loss)\n",
    "print(\"Value at Risk VaR[L]:              %.4f\" % exact_var)\n",
    "print(\"P[L <= VaR[L]]:                    %.4f\" % cdf[exact_var])\n",
    "print(\"Conditional Value at Risk CVaR[L]: %.4f\" % exact_cvar)"
   ]
  },
  {
   "cell_type": "code",
   "execution_count": 32,
   "id": "f47e96eb",
   "metadata": {},
   "outputs": [
    {
     "data": {
      "image/png": "[encoded data removed]",
      "text/plain": [
       "<Figure size 640x480 with 1 Axes>"
      ]
     },
     "metadata": {},
     "output_type": "display_data"
    }
   ],
   "source": [
    "# plot loss PDF, expected loss, var, and cvar\n",
    "plt.bar(losses, pdf)\n",
    "plt.axvline(expected_loss, color=\"green\", linestyle=\"--\", label=\"E[L]\")\n",
    "plt.axvline(exact_var, color=\"orange\", linestyle=\"--\", label=\"VaR(L)\")\n",
    "plt.axvline(exact_cvar, color=\"red\", linestyle=\"--\", label=\"CVaR(L)\")\n",
    "plt.legend(fontsize=15)\n",
    "plt.xlabel(\"Loss L ($)\", size=15)\n",
    "plt.ylabel(\"probability (%)\", size=15)\n",
    "plt.title(\"Loss Distribution\", size=20)\n",
    "plt.xticks(size=15)\n",
    "plt.yticks(size=15)\n",
    "plt.show()"
   ]
  },
  {
   "cell_type": "code",
   "execution_count": 33,
   "id": "a8f7f803",
   "metadata": {},
   "outputs": [
    {
     "data": {
      "image/png": "[encoded data removed]",
      "text/plain": [
       "<Figure size 640x480 with 1 Axes>"
      ]
     },
     "metadata": {},
     "output_type": "display_data"
    }
   ],
   "source": [
    "# plot results for Z\n",
    "plt.plot(z_values, p_z, \"o-\", linewidth=3, markersize=8)\n",
    "plt.grid()\n",
    "plt.xlabel(\"Z value\", size=15)\n",
    "plt.ylabel(\"probability (%)\", size=15)\n",
    "plt.title(\"Z Distribution\", size=20)\n",
    "plt.xticks(size=15)\n",
    "plt.yticks(size=15)\n",
    "plt.show()"
   ]
  },
  {
   "cell_type": "code",
   "execution_count": 34,
   "id": "540484d9",
   "metadata": {},
   "outputs": [
    {
     "data": {
      "image/png": "[encoded data removed]",
      "text/plain": [
       "<Figure size 640x480 with 1 Axes>"
      ]
     },
     "metadata": {},
     "output_type": "display_data"
    }
   ],
   "source": [
    "# plot results for default probabilities\n",
    "plt.bar(range(num_assets), p_default)\n",
    "plt.xlabel(\"Asset\", size=15)\n",
    "plt.ylabel(\"probability (%)\", size=15)\n",
    "plt.title(\"Individual Default Probabilities\", size=20)\n",
    "plt.xticks(range(num_assets), size=15)\n",
    "plt.yticks(size=15)\n",
    "plt.grid()\n",
    "plt.show()"
   ]
  },
  {
   "cell_type": "code",
   "execution_count": 35,
   "id": "50d7311b",
   "metadata": {},
   "outputs": [
    {
     "data": {
      "text/plain": [
       "[0, 0, 1, 2, 3, 4]"
      ]
     },
     "execution_count": 35,
     "metadata": {},
     "output_type": "execute_result"
    }
   ],
   "source": [
    " [0] * q + loss_given_default_k"
   ]
  },
  {
   "cell_type": "code",
   "execution_count": 45,
   "id": "02de884f",
   "metadata": {},
   "outputs": [
    {
     "name": "stdout",
     "output_type": "stream",
     "text": [
      "         ┌───────────────┐\n",
      "state_0: ┤0              ├\n",
      "         │               │\n",
      "state_1: ┤1              ├\n",
      "         │               │\n",
      "state_2: ┤2              ├\n",
      "         │               │\n",
      "state_3: ┤3              ├\n",
      "         │               │\n",
      "state_4: ┤4              ├\n",
      "         │               │\n",
      "state_5: ┤5              ├\n",
      "         │               │\n",
      "  sum_0: ┤6              ├\n",
      "         │   circuit-306 │\n",
      "  sum_1: ┤7              ├\n",
      "         │               │\n",
      "  sum_2: ┤8              ├\n",
      "         │               │\n",
      "  sum_3: ┤9              ├\n",
      "         │               │\n",
      "carry_0: ┤10             ├\n",
      "         │               │\n",
      "carry_1: ┤11             ├\n",
      "         │               │\n",
      "carry_2: ┤12             ├\n",
      "         │               │\n",
      "control: ┤13             ├\n",
      "         └───────────────┘\n",
      "1\n"
     ]
    }
   ],
   "source": [
    "# add Z qubits with weight/loss 0\n",
    "from qiskit.circuit.library import WeightedAdder\n",
    "#weighted sum of qubit registers.\n",
    "agg = WeightedAdder(q + num_assets, [0] * q + loss_given_default_k)\n",
    "print(agg)\n",
    "print(agg.num_control_qubits)"
   ]
  },
  {
   "cell_type": "code",
   "execution_count": 41,
   "id": "773b987f",
   "metadata": {},
   "outputs": [],
   "source": [
    "from qiskit.circuit.library import LinearAmplitudeFunction\n",
    "\n",
    "# define linear objective function\n",
    "breakpoints = [0]\n",
    "slopes = [1]\n",
    "offsets = [0]\n",
    "f_min = 0\n",
    "f_max = sum(loss_given_default_k)\n",
    "c_approx = 0.25\n",
    "\n",
    "objective = LinearAmplitudeFunction(\n",
    "    agg.num_sum_qubits,\n",
    "    slope=slopes,\n",
    "    offset=offsets,\n",
    "    # max value that can be reached by the qubit register (will not always be reached)\n",
    "    domain=(0, 2**agg.num_sum_qubits - 1),\n",
    "    image=(f_min, f_max),\n",
    "    rescaling_factor=c_approx,\n",
    "    breakpoints=breakpoints,\n",
    ")"
   ]
  },
  {
   "cell_type": "code",
   "execution_count": 84,
   "id": "a78b9bde",
   "metadata": {},
   "outputs": [
    {
     "name": "stdout",
     "output_type": "stream",
     "text": [
      "       ┌────┐\n",
      "q46_0: ┤0   ├\n",
      "       │    │\n",
      "q46_1: ┤1   ├\n",
      "       │    │\n",
      "q46_2: ┤2 F ├\n",
      "       │    │\n",
      "q46_3: ┤3   ├\n",
      "       │    │\n",
      "  q47: ┤4   ├\n",
      "       └────┘\n",
      "[CircuitInstruction(operation=Instruction(name='F', num_qubits=5, num_clbits=0, params=[]), qubits=(Qubit(QuantumRegister(4, 'q46'), 0), Qubit(QuantumRegister(4, 'q46'), 1), Qubit(QuantumRegister(4, 'q46'), 2), Qubit(QuantumRegister(4, 'q46'), 3), Qubit(QuantumRegister(1, 'q47'), 0)), clbits=())]\n"
     ]
    }
   ],
   "source": [
    "print(objective)\n",
    "print(objective.data)"
   ]
  },
  {
   "cell_type": "code",
   "execution_count": 43,
   "id": "eb10edef",
   "metadata": {},
   "outputs": [
    {
     "name": "stdout",
     "output_type": "stream",
     "text": [
      "[Qubit(QuantumRegister(6, 'state'), 0), Qubit(QuantumRegister(6, 'state'), 1), Qubit(QuantumRegister(6, 'state'), 2), Qubit(QuantumRegister(6, 'state'), 3), Qubit(QuantumRegister(6, 'state'), 4), Qubit(QuantumRegister(6, 'state'), 5), Qubit(QuantumRegister(4, 'sum'), 0), Qubit(QuantumRegister(4, 'sum'), 1), Qubit(QuantumRegister(4, 'sum'), 2), Qubit(QuantumRegister(4, 'sum'), 3), Qubit(QuantumRegister(3, 'carry'), 0), Qubit(QuantumRegister(3, 'carry'), 1), Qubit(QuantumRegister(3, 'carry'), 2)]\n"
     ]
    }
   ],
   "source": [
    "\n",
    "# define the registers for convenience and readability\n",
    "qr_state = QuantumRegister(uncertainty_model.num_qubits, \"state\")\n",
    "qr_sum = QuantumRegister(agg.num_sum_qubits, \"sum\")\n",
    "qr_carry = QuantumRegister(agg.num_carry_qubits, \"carry\")\n",
    "qr_obj = QuantumRegister(1, \"objective\")\n",
    "print(qr_state[:] + qr_sum[:] + qr_carry[:])"
   ]
  },
  {
   "cell_type": "code",
   "execution_count": 50,
   "id": "7354f258",
   "metadata": {},
   "outputs": [
    {
     "data": {
      "text/html": [
       "<pre style=\"word-wrap: normal;white-space: pre;background: #fff0;line-height: 1.1;font-family: &quot;Courier New&quot;,Courier,monospace\">           \n",
       "  state_0: \n",
       "           \n",
       "  state_1: \n",
       "           \n",
       "  state_2: \n",
       "           \n",
       "  state_3: \n",
       "           \n",
       "  state_4: \n",
       "           \n",
       "  state_5: \n",
       "           \n",
       "objective: \n",
       "           \n",
       "    sum_0: \n",
       "           \n",
       "    sum_1: \n",
       "           \n",
       "    sum_2: \n",
       "           \n",
       "    sum_3: \n",
       "           \n",
       "  carry_0: \n",
       "           \n",
       "  carry_1: \n",
       "           \n",
       "  carry_2: \n",
       "           \n",
       "  control: \n",
       "           </pre>"
      ],
      "text/plain": [
       "           \n",
       "  state_0: \n",
       "           \n",
       "  state_1: \n",
       "           \n",
       "  state_2: \n",
       "           \n",
       "  state_3: \n",
       "           \n",
       "  state_4: \n",
       "           \n",
       "  state_5: \n",
       "           \n",
       "objective: \n",
       "           \n",
       "    sum_0: \n",
       "           \n",
       "    sum_1: \n",
       "           \n",
       "    sum_2: \n",
       "           \n",
       "    sum_3: \n",
       "           \n",
       "  carry_0: \n",
       "           \n",
       "  carry_1: \n",
       "           \n",
       "  carry_2: \n",
       "           \n",
       "  control: \n",
       "           "
      ]
     },
     "execution_count": 50,
     "metadata": {},
     "output_type": "execute_result"
    }
   ],
   "source": [
    "\n",
    "qr_state = QuantumRegister(uncertainty_model.num_qubits, \"state\")\n",
    "qr_sum = QuantumRegister(agg.num_sum_qubits, \"sum\")\n",
    "qr_carry = QuantumRegister(agg.num_carry_qubits, \"carry\")\n",
    "qr_ctrl = QuantumRegister(agg.num_control_qubits,\"control\")\n",
    "qr_obj = QuantumRegister(1, \"objective\")\n",
    "\n",
    "# define the circuit\n",
    "state_preparation = QuantumCircuit(qr_state, qr_obj, qr_sum, qr_carry,qr_ctrl, name=\"A\")\n",
    "\n",
    "# draw the circuit\n",
    "state_preparation.draw()"
   ]
  },
  {
   "cell_type": "code",
   "execution_count": 51,
   "id": "0320c7f6",
   "metadata": {},
   "outputs": [
    {
     "data": {
      "text/html": [
       "<pre style=\"word-wrap: normal;white-space: pre;background: #fff0;line-height: 1.1;font-family: &quot;Courier New&quot;,Courier,monospace\">           ┌───────┐\n",
       "  state_0: ┤0      ├\n",
       "           │       │\n",
       "  state_1: ┤1      ├\n",
       "           │       │\n",
       "  state_2: ┤2      ├\n",
       "           │  P(X) │\n",
       "  state_3: ┤3      ├\n",
       "           │       │\n",
       "  state_4: ┤4      ├\n",
       "           │       │\n",
       "  state_5: ┤5      ├\n",
       "           └───────┘\n",
       "objective: ─────────\n",
       "                    \n",
       "    sum_0: ─────────\n",
       "                    \n",
       "    sum_1: ─────────\n",
       "                    \n",
       "    sum_2: ─────────\n",
       "                    \n",
       "    sum_3: ─────────\n",
       "                    \n",
       "  carry_0: ─────────\n",
       "                    \n",
       "  carry_1: ─────────\n",
       "                    \n",
       "  carry_2: ─────────\n",
       "                    \n",
       "  control: ─────────\n",
       "                    </pre>"
      ],
      "text/plain": [
       "           ┌───────┐\n",
       "  state_0: ┤0      ├\n",
       "           │       │\n",
       "  state_1: ┤1      ├\n",
       "           │       │\n",
       "  state_2: ┤2      ├\n",
       "           │  P(X) │\n",
       "  state_3: ┤3      ├\n",
       "           │       │\n",
       "  state_4: ┤4      ├\n",
       "           │       │\n",
       "  state_5: ┤5      ├\n",
       "           └───────┘\n",
       "objective: ─────────\n",
       "                    \n",
       "    sum_0: ─────────\n",
       "                    \n",
       "    sum_1: ─────────\n",
       "                    \n",
       "    sum_2: ─────────\n",
       "                    \n",
       "    sum_3: ─────────\n",
       "                    \n",
       "  carry_0: ─────────\n",
       "                    \n",
       "  carry_1: ─────────\n",
       "                    \n",
       "  carry_2: ─────────\n",
       "                    \n",
       "  control: ─────────\n",
       "                    "
      ]
     },
     "execution_count": 51,
     "metadata": {},
     "output_type": "execute_result"
    }
   ],
   "source": [
    "# load the random variable\n",
    "state_preparation.append(uncertainty_model.to_gate(), qr_state)\n",
    "\n",
    "state_preparation.draw()"
   ]
  },
  {
   "cell_type": "code",
   "execution_count": 52,
   "id": "e8adddc1",
   "metadata": {},
   "outputs": [
    {
     "data": {
      "text/html": [
       "<pre style=\"word-wrap: normal;white-space: pre;background: #fff0;line-height: 1.1;font-family: &quot;Courier New&quot;,Courier,monospace\">           ┌───────┐┌─────────┐\n",
       "  state_0: ┤0      ├┤0        ├\n",
       "           │       ││         │\n",
       "  state_1: ┤1      ├┤1        ├\n",
       "           │       ││         │\n",
       "  state_2: ┤2      ├┤2        ├\n",
       "           │  P(X) ││         │\n",
       "  state_3: ┤3      ├┤3        ├\n",
       "           │       ││         │\n",
       "  state_4: ┤4      ├┤4        ├\n",
       "           │       ││         │\n",
       "  state_5: ┤5      ├┤5        ├\n",
       "           └───────┘│         │\n",
       "objective: ─────────┤         ├\n",
       "                    │         │\n",
       "    sum_0: ─────────┤6  adder ├\n",
       "                    │         │\n",
       "    sum_1: ─────────┤7        ├\n",
       "                    │         │\n",
       "    sum_2: ─────────┤8        ├\n",
       "                    │         │\n",
       "    sum_3: ─────────┤9        ├\n",
       "                    │         │\n",
       "  carry_0: ─────────┤10       ├\n",
       "                    │         │\n",
       "  carry_1: ─────────┤11       ├\n",
       "                    │         │\n",
       "  carry_2: ─────────┤12       ├\n",
       "                    │         │\n",
       "  control: ─────────┤13       ├\n",
       "                    └─────────┘</pre>"
      ],
      "text/plain": [
       "           ┌───────┐┌─────────┐\n",
       "  state_0: ┤0      ├┤0        ├\n",
       "           │       ││         │\n",
       "  state_1: ┤1      ├┤1        ├\n",
       "           │       ││         │\n",
       "  state_2: ┤2      ├┤2        ├\n",
       "           │  P(X) ││         │\n",
       "  state_3: ┤3      ├┤3        ├\n",
       "           │       ││         │\n",
       "  state_4: ┤4      ├┤4        ├\n",
       "           │       ││         │\n",
       "  state_5: ┤5      ├┤5        ├\n",
       "           └───────┘│         │\n",
       "objective: ─────────┤         ├\n",
       "                    │         │\n",
       "    sum_0: ─────────┤6  adder ├\n",
       "                    │         │\n",
       "    sum_1: ─────────┤7        ├\n",
       "                    │         │\n",
       "    sum_2: ─────────┤8        ├\n",
       "                    │         │\n",
       "    sum_3: ─────────┤9        ├\n",
       "                    │         │\n",
       "  carry_0: ─────────┤10       ├\n",
       "                    │         │\n",
       "  carry_1: ─────────┤11       ├\n",
       "                    │         │\n",
       "  carry_2: ─────────┤12       ├\n",
       "                    │         │\n",
       "  control: ─────────┤13       ├\n",
       "                    └─────────┘"
      ]
     },
     "execution_count": 52,
     "metadata": {},
     "output_type": "execute_result"
    }
   ],
   "source": [
    "# aggregate\n",
    "state_preparation.append(agg.to_gate(), qr_state[:] + qr_sum[:] + qr_carry[:]+qr_ctrl[:])\n",
    "state_preparation.draw()\n"
   ]
  },
  {
   "cell_type": "code",
   "execution_count": 53,
   "id": "5ee75d22",
   "metadata": {},
   "outputs": [
    {
     "data": {
      "text/html": [
       "<pre style=\"word-wrap: normal;white-space: pre;background: #fff0;line-height: 1.1;font-family: &quot;Courier New&quot;,Courier,monospace\">           ┌───────┐┌─────────┐      \n",
       "  state_0: ┤0      ├┤0        ├──────\n",
       "           │       ││         │      \n",
       "  state_1: ┤1      ├┤1        ├──────\n",
       "           │       ││         │      \n",
       "  state_2: ┤2      ├┤2        ├──────\n",
       "           │  P(X) ││         │      \n",
       "  state_3: ┤3      ├┤3        ├──────\n",
       "           │       ││         │      \n",
       "  state_4: ┤4      ├┤4        ├──────\n",
       "           │       ││         │      \n",
       "  state_5: ┤5      ├┤5        ├──────\n",
       "           └───────┘│         │┌────┐\n",
       "objective: ─────────┤         ├┤4   ├\n",
       "                    │         ││    │\n",
       "    sum_0: ─────────┤6  adder ├┤0   ├\n",
       "                    │         ││    │\n",
       "    sum_1: ─────────┤7        ├┤1 F ├\n",
       "                    │         ││    │\n",
       "    sum_2: ─────────┤8        ├┤2   ├\n",
       "                    │         ││    │\n",
       "    sum_3: ─────────┤9        ├┤3   ├\n",
       "                    │         │└────┘\n",
       "  carry_0: ─────────┤10       ├──────\n",
       "                    │         │      \n",
       "  carry_1: ─────────┤11       ├──────\n",
       "                    │         │      \n",
       "  carry_2: ─────────┤12       ├──────\n",
       "                    │         │      \n",
       "  control: ─────────┤13       ├──────\n",
       "                    └─────────┘      </pre>"
      ],
      "text/plain": [
       "           ┌───────┐┌─────────┐      \n",
       "  state_0: ┤0      ├┤0        ├──────\n",
       "           │       ││         │      \n",
       "  state_1: ┤1      ├┤1        ├──────\n",
       "           │       ││         │      \n",
       "  state_2: ┤2      ├┤2        ├──────\n",
       "           │  P(X) ││         │      \n",
       "  state_3: ┤3      ├┤3        ├──────\n",
       "           │       ││         │      \n",
       "  state_4: ┤4      ├┤4        ├──────\n",
       "           │       ││         │      \n",
       "  state_5: ┤5      ├┤5        ├──────\n",
       "           └───────┘│         │┌────┐\n",
       "objective: ─────────┤         ├┤4   ├\n",
       "                    │         ││    │\n",
       "    sum_0: ─────────┤6  adder ├┤0   ├\n",
       "                    │         ││    │\n",
       "    sum_1: ─────────┤7        ├┤1 F ├\n",
       "                    │         ││    │\n",
       "    sum_2: ─────────┤8        ├┤2   ├\n",
       "                    │         ││    │\n",
       "    sum_3: ─────────┤9        ├┤3   ├\n",
       "                    │         │└────┘\n",
       "  carry_0: ─────────┤10       ├──────\n",
       "                    │         │      \n",
       "  carry_1: ─────────┤11       ├──────\n",
       "                    │         │      \n",
       "  carry_2: ─────────┤12       ├──────\n",
       "                    │         │      \n",
       "  control: ─────────┤13       ├──────\n",
       "                    └─────────┘      "
      ]
     },
     "execution_count": 53,
     "metadata": {},
     "output_type": "execute_result"
    }
   ],
   "source": [
    "# linear objective function\n",
    "state_preparation.append(objective.to_gate(), qr_sum[:] + qr_obj[:])\n",
    "\n",
    "state_preparation.draw()"
   ]
  },
  {
   "cell_type": "code",
   "execution_count": 54,
   "id": "3cd770cc",
   "metadata": {},
   "outputs": [
    {
     "data": {
      "text/html": [
       "<pre style=\"word-wrap: normal;white-space: pre;background: #fff0;line-height: 1.1;font-family: &quot;Courier New&quot;,Courier,monospace\">           ┌───────┐┌─────────┐      ┌────────────┐\n",
       "  state_0: ┤0      ├┤0        ├──────┤0           ├\n",
       "           │       ││         │      │            │\n",
       "  state_1: ┤1      ├┤1        ├──────┤1           ├\n",
       "           │       ││         │      │            │\n",
       "  state_2: ┤2      ├┤2        ├──────┤2           ├\n",
       "           │  P(X) ││         │      │            │\n",
       "  state_3: ┤3      ├┤3        ├──────┤3           ├\n",
       "           │       ││         │      │            │\n",
       "  state_4: ┤4      ├┤4        ├──────┤4           ├\n",
       "           │       ││         │      │            │\n",
       "  state_5: ┤5      ├┤5        ├──────┤5           ├\n",
       "           └───────┘│         │┌────┐│            │\n",
       "objective: ─────────┤         ├┤4   ├┤            ├\n",
       "                    │         ││    ││            │\n",
       "    sum_0: ─────────┤6  adder ├┤0   ├┤6  adder_dg ├\n",
       "                    │         ││    ││            │\n",
       "    sum_1: ─────────┤7        ├┤1 F ├┤7           ├\n",
       "                    │         ││    ││            │\n",
       "    sum_2: ─────────┤8        ├┤2   ├┤8           ├\n",
       "                    │         ││    ││            │\n",
       "    sum_3: ─────────┤9        ├┤3   ├┤9           ├\n",
       "                    │         │└────┘│            │\n",
       "  carry_0: ─────────┤10       ├──────┤10          ├\n",
       "                    │         │      │            │\n",
       "  carry_1: ─────────┤11       ├──────┤11          ├\n",
       "                    │         │      │            │\n",
       "  carry_2: ─────────┤12       ├──────┤12          ├\n",
       "                    │         │      │            │\n",
       "  control: ─────────┤13       ├──────┤13          ├\n",
       "                    └─────────┘      └────────────┘</pre>"
      ],
      "text/plain": [
       "           ┌───────┐┌─────────┐      ┌────────────┐\n",
       "  state_0: ┤0      ├┤0        ├──────┤0           ├\n",
       "           │       ││         │      │            │\n",
       "  state_1: ┤1      ├┤1        ├──────┤1           ├\n",
       "           │       ││         │      │            │\n",
       "  state_2: ┤2      ├┤2        ├──────┤2           ├\n",
       "           │  P(X) ││         │      │            │\n",
       "  state_3: ┤3      ├┤3        ├──────┤3           ├\n",
       "           │       ││         │      │            │\n",
       "  state_4: ┤4      ├┤4        ├──────┤4           ├\n",
       "           │       ││         │      │            │\n",
       "  state_5: ┤5      ├┤5        ├──────┤5           ├\n",
       "           └───────┘│         │┌────┐│            │\n",
       "objective: ─────────┤         ├┤4   ├┤            ├\n",
       "                    │         ││    ││            │\n",
       "    sum_0: ─────────┤6  adder ├┤0   ├┤6  adder_dg ├\n",
       "                    │         ││    ││            │\n",
       "    sum_1: ─────────┤7        ├┤1 F ├┤7           ├\n",
       "                    │         ││    ││            │\n",
       "    sum_2: ─────────┤8        ├┤2   ├┤8           ├\n",
       "                    │         ││    ││            │\n",
       "    sum_3: ─────────┤9        ├┤3   ├┤9           ├\n",
       "                    │         │└────┘│            │\n",
       "  carry_0: ─────────┤10       ├──────┤10          ├\n",
       "                    │         │      │            │\n",
       "  carry_1: ─────────┤11       ├──────┤11          ├\n",
       "                    │         │      │            │\n",
       "  carry_2: ─────────┤12       ├──────┤12          ├\n",
       "                    │         │      │            │\n",
       "  control: ─────────┤13       ├──────┤13          ├\n",
       "                    └─────────┘      └────────────┘"
      ]
     },
     "execution_count": 54,
     "metadata": {},
     "output_type": "execute_result"
    }
   ],
   "source": [
    "# uncompute aggregation\n",
    "\n",
    "state_preparation.append(agg.to_gate().inverse(), qr_state[:] + qr_sum[:] + qr_carry[:]+qr_ctrl[:])\n",
    "state_preparation.draw()"
   ]
  },
  {
   "cell_type": "markdown",
   "id": "80f32d12",
   "metadata": {},
   "source": [
    "For num of assets = 5 , I get below error:\n",
    "---------------------------------------------------------------------------\n",
    "\n",
    "CircuitError                              Traceback (most recent call last)\n",
    "Cell In[62], line 13\n",
    "     10 state_preparation.append(uncertainty_model.to_gate(), qr_state)\n",
    "     12 # aggregate\n",
    "---> 13 state_preparation.append(agg.to_gate(),[qr_state[:] + qr_sum[:] + qr_carry[:]])\n",
    "     15 # linear objective function\n",
    "     16 state_preparation.append(objective.to_gate(), qr_sum[:] + qr_obj[:])\n",
    "\n",
    "<h3>File ~/opt/anaconda3/envs/QCQML/lib/python3.9/site-packages/qiskit/circuit/quantumcircuit.py:1264, in QuantumCircuit.append(self, instruction, qargs, cargs)\n",
    "   1262 instructions = InstructionSet(resource_requester=requester)\n",
    "   1263 if isinstance(operation, Instruction):\n",
    "-> 1264     for qarg, carg in operation.broadcast_arguments(expanded_qargs, expanded_cargs):\n",
    "   1265         self._check_dups(qarg)\n",
    "   1266         instruction = CircuitInstruction(operation, qarg, carg)\n",
    "\n",
    "File ~/opt/anaconda3/envs/QCQML/lib/python3.9/site-packages/qiskit/circuit/gate.py:202, in Gate.broadcast_arguments(self, qargs, cargs)\n",
    "    165 \"\"\"Validation and handling of the arguments and its relationship.\n",
    "    166 \n",
    "    167 For example, ``cx([q[0],q[1]], q[2])`` means ``cx(q[0], q[2]); cx(q[1], q[2])``. This\n",
    "   (...)\n",
    "    199         arguments does not match the gate expectation.\n",
    "    200 \"\"\"\n",
    "    201 if len(qargs) != self.num_qubits or cargs:\n",
    "--> 202     raise CircuitError(\n",
    "    203         f\"The amount of qubit({len(qargs)})/clbit({len(cargs)}) arguments does\"\n",
    "    204         f\" not match the gate expectation ({self.num_qubits}).\"\n",
    "    205     )\n",
    "    207 if any(not qarg for qarg in qargs):\n",
    "    208     raise CircuitError(\"One or more of the arguments are empty\")\n",
    "\n",
    "<h3>CircuitError: 'The amount of qubit(1)/clbit(0) arguments does not match the gate expectation (15).'\n",
    "    \n",
    "<h2> The above error occurs when num of assets =3 and no of qbits to represent Z =3 , in absence of control_bits"
   ]
  },
  {
   "cell_type": "code",
   "execution_count": 56,
   "id": "10e0f8a8",
   "metadata": {},
   "outputs": [
    {
     "name": "stdout",
     "output_type": "stream",
     "text": [
      "{'000000001001101': 0.0009765625, '000000001011100': 0.0009765625, '000000000101101': 0.0029296875, '000000000011110': 0.0009765625, '000000001111110': 0.0009765625, '000000000111000': 0.0029296875, '000000000010000': 0.0029296875, '000000001111010': 0.0029296875, '000000001100101': 0.005859375, '000000000101000': 0.0009765625, '000000000110101': 0.0048828125, '000000001110101': 0.005859375, '000000000001110': 0.001953125, '000000000111101': 0.001953125, '000000001011101': 0.0009765625, '000000001000101': 0.00390625, '000000001010101': 0.0078125, '000000001001001': 0.0078125, '000000000010011': 0.0185546875, '000000001110011': 0.0009765625, '000000000000111': 0.001953125, '000000001010000': 0.001953125, '000000000001000': 0.0009765625, '000000000111010': 0.0009765625, '000000000111100': 0.001953125, '000000000010101': 0.009765625, '000000000011101': 0.0009765625, '000000000000000': 0.0009765625, '000000001011011': 0.0029296875, '000000000110001': 0.0341796875, '000000000000101': 0.01171875, '000000001000011': 0.0068359375, '000000001100100': 0.0009765625, '000000000001101': 0.005859375, '000000000000110': 0.005859375, '000000000001011': 0.00390625, '000000000001001': 0.015625, '000000001010011': 0.0146484375, '000000000011011': 0.0009765625, '000000000110100': 0.001953125, '000000000100010': 0.0087890625, '000000001001010': 0.01953125, '000000001000001': 0.015625, '000000001100001': 0.0205078125, '000000000000100': 0.0009765625, '000000001110010': 0.0078125, '000000001110000': 0.0107421875, '000000001111100': 0.0048828125, '000000001010110': 0.0087890625, '000000000110000': 0.0078125, '000000001101001': 0.0068359375, '000000000001010': 0.0224609375, '000000000011100': 0.0009765625, '000000001101100': 0.0009765625, '000000000111001': 0.005859375, '000000000100001': 0.029296875, '000000001010001': 0.0322265625, '000000001111001': 0.0146484375, '000000000010110': 0.0048828125, '000000000010001': 0.046875, '000000001000110': 0.00390625, '000000000010100': 0.0009765625, '000000001010010': 0.0673828125, '000000000100000': 0.0048828125, '000000001011001': 0.0166015625, '000000000100100': 0.0009765625, '000000001100000': 0.00390625, '000000001001011': 0.001953125, '000000000110010': 0.0048828125, '000000001110001': 0.03515625, '000000000101010': 0.0029296875, '000000001111000': 0.0107421875, '000000000011010': 0.01953125, '000000001101000': 0.0029296875, '000000000100101': 0.001953125, '000000000000001': 0.0458984375, '000000001011000': 0.001953125, '000000001100011': 0.0009765625, '000000001110100': 0.0029296875, '000000001000010': 0.044921875, '000000000000010': 0.0810546875, '000000001100010': 0.0048828125, '000000000101100': 0.0029296875, '000000001001110': 0.0009765625, '000000000000011': 0.0166015625, '000000000101001': 0.009765625, '000000001111101': 0.005859375, '000000000011001': 0.0166015625, '000000001011010': 0.0234375, '000000000010010': 0.08984375}\n"
     ]
    }
   ],
   "source": [
    "\"\"\"\n",
    "validate the quantum circuit representing the objective function by just simulating it directly and analyzing the probability of the objective qubit being in the \n",
    " state, i.e., the value QAE will eventually approximate.\n",
    "\"\"\"\n",
    "state_preparation_measure = state_preparation.measure_all(inplace=False)\n",
    "sampler = Sampler()\n",
    "job = sampler.run(state_preparation_measure)\n",
    "binary_probabilities = job.result().quasi_dists[0].binary_probabilities()\n",
    "print(binary_probabilities)"
   ]
  },
  {
   "cell_type": "code",
   "execution_count": 57,
   "id": "626b6172",
   "metadata": {},
   "outputs": [
    {
     "name": "stdout",
     "output_type": "stream",
     "text": [
      "Exact Expected Loss:   3.4531\n",
      "Exact Operator Value:  0.4375\n",
      "Mapped Operator value: 3.4085\n"
     ]
    }
   ],
   "source": [
    "# evaluate the result\n",
    "value = 0\n",
    "for i, prob in binary_probabilities.items():\n",
    "    if prob > 1e-6 and i[-(len(qr_state) + 1) :][0] == \"1\":\n",
    "        value += prob\n",
    "\n",
    "print(\"Exact Expected Loss:   %.4f\" % expected_loss)\n",
    "print(\"Exact Operator Value:  %.4f\" % value)\n",
    "print(\"Mapped Operator value: %.4f\" % objective.post_processing(value))"
   ]
  },
  {
   "cell_type": "code",
   "execution_count": 62,
   "id": "87281d21",
   "metadata": {},
   "outputs": [
    {
     "name": "stdout",
     "output_type": "stream",
     "text": [
      "Exact value:    \t3.4531\n",
      "Estimated value:\t3.3954\n",
      "Confidence interval: \t[2.7211, 4.0697]\n"
     ]
    }
   ],
   "source": [
    "# set target precision and confidence level\n",
    "epsilon_target = 0.03\n",
    "alpha = 0.05\n",
    "\n",
    "problem = EstimationProblem(\n",
    "    state_preparation=state_preparation,\n",
    "    objective_qubits=[len(qr_state)],\n",
    "    post_processing=objective.post_processing,\n",
    ")\n",
    "# construct amplitude estimation\n",
    "ae = IterativeAmplitudeEstimation(\n",
    "    epsilon_target=epsilon_target, alpha=alpha, sampler=Sampler(run_options={\"shots\": 100})\n",
    ")\n",
    "result = ae.estimate(problem)\n",
    "\n",
    "# print results\n",
    "conf_int = np.array(result.confidence_interval_processed)\n",
    "print(\"Exact value:    \\t%.4f\" % expected_loss)\n",
    "print(\"Estimated value:\\t%.4f\" % result.estimation_processed)\n",
    "print(\"Confidence interval: \\t[%.4f, %.4f]\" % tuple(conf_int))"
   ]
  },
  {
   "cell_type": "code",
   "execution_count": 66,
   "id": "833aa232",
   "metadata": {},
   "outputs": [
    {
     "name": "stdout",
     "output_type": "stream",
     "text": [
      "Exact value:    \t3.4531\n",
      "Estimated value:\t3.5088\n"
     ]
    }
   ],
   "source": [
    "\"\"\"This class implements the quantum amplitude estimation (QAE) algorithm without phase estimation.\n",
    "In comparison to the original QAE algorithm , this implementation relies solely on different \n",
    "powers of the Grover operator and does not require additional evaluation qubits.\"\"\"\n",
    "\n",
    "problem = EstimationProblem(\n",
    "    state_preparation=state_preparation,\n",
    "    objective_qubits=[len(qr_state)],\n",
    "    post_processing=objective.post_processing,\n",
    ")\n",
    "# construct MaximumLikelihoodAmplitudeEstimation\n",
    "max_lhood_ae = MaximumLikelihoodAmplitudeEstimation(\n",
    "    evaluation_schedule=3,  # log2 of the maximal Grover power\n",
    "    sampler=sampler\n",
    ")\n",
    "max_lhood_result = max_lhood_ae.estimate(problem)\n",
    "\n",
    "# print results\n",
    "conf_int = np.array(max_lhood_result.confidence_interval_processed)\n",
    "print(\"Exact value:    \\t%.4f\" % expected_loss)\n",
    "print(\"Estimated value:\\t%.4f\" % max_lhood_result.estimation_processed)"
   ]
  },
  {
   "cell_type": "code",
   "execution_count": 67,
   "id": "61921b50",
   "metadata": {},
   "outputs": [
    {
     "name": "stdout",
     "output_type": "stream",
     "text": [
      "Exact value:    \t3.4531\n",
      "Estimated value:\t3.7647\n"
     ]
    }
   ],
   "source": [
    "\"\"\"\n",
    "The Faster Amplitude Estimation (FAE)  algorithm is a variant of Quantum Amplitude Estimation (QAE), \n",
    "where the Quantum Phase Estimation (QPE) by an iterative Grover search\n",
    "\"\"\"\n",
    "\n",
    "# construct FastAmplitudeEstimation\n",
    "fast_ae = FasterAmplitudeEstimation(\n",
    "    delta=0.01,  # target accuracy\n",
    "    maxiter=3,  # determines the maximal power of the Grover operator\n",
    "    sampler=sampler,\n",
    ")\n",
    "\n",
    "fast_ae_result = fast_ae.estimate(problem)\n",
    "# print results\n",
    "conf_int = np.array(fast_ae_result.confidence_interval_processed)\n",
    "print(\"Exact value:    \\t%.4f\" % expected_loss)\n",
    "print(\"Estimated value:\\t%.4f\" % fast_ae_result.estimation_processed)"
   ]
  },
  {
   "cell_type": "code",
   "execution_count": 72,
   "id": "1a390da0",
   "metadata": {},
   "outputs": [
    {
     "data": {
      "text/html": [
       "<pre style=\"word-wrap: normal;white-space: pre;background: #fff0;line-height: 1.1;font-family: &quot;Courier New&quot;,Courier,monospace\">         ┌──────┐\n",
       "state_0: ┤0     ├\n",
       "         │      │\n",
       "state_1: ┤1     ├\n",
       "         │      │\n",
       "state_2: ┤2     ├\n",
       "         │      │\n",
       "state_3: ┤3     ├\n",
       "         │  cmp │\n",
       "compare: ┤4     ├\n",
       "         │      │\n",
       "   a3_0: ┤5     ├\n",
       "         │      │\n",
       "   a3_1: ┤6     ├\n",
       "         │      │\n",
       "   a3_2: ┤7     ├\n",
       "         └──────┘</pre>"
      ],
      "text/plain": [
       "         ┌──────┐\n",
       "state_0: ┤0     ├\n",
       "         │      │\n",
       "state_1: ┤1     ├\n",
       "         │      │\n",
       "state_2: ┤2     ├\n",
       "         │      │\n",
       "state_3: ┤3     ├\n",
       "         │  cmp │\n",
       "compare: ┤4     ├\n",
       "         │      │\n",
       "   a3_0: ┤5     ├\n",
       "         │      │\n",
       "   a3_1: ┤6     ├\n",
       "         │      │\n",
       "   a3_2: ┤7     ├\n",
       "         └──────┘"
      ]
     },
     "execution_count": 72,
     "metadata": {},
     "output_type": "execute_result"
    }
   ],
   "source": [
    "# set x value to estimate the CDF\n",
    "x_eval = 2\n",
    "\n",
    "comparator = IntegerComparator(agg.num_sum_qubits, x_eval + 1, geq=False)\n",
    "comparator.draw()"
   ]
  },
  {
   "cell_type": "code",
   "execution_count": 77,
   "id": "5c69e80d",
   "metadata": {},
   "outputs": [],
   "source": [
    "def get_cdf_circuit(x_eval):\n",
    "    # define the registers for convenience and readability\n",
    "    qr_state = QuantumRegister(uncertainty_model.num_qubits, \"state\")\n",
    "    qr_sum = QuantumRegister(agg.num_sum_qubits, \"sum\")\n",
    "    qr_carry = QuantumRegister(agg.num_carry_qubits, \"carry\")\n",
    "    qr_ctrl = QuantumRegister(agg.num_control_qubits, \"control\")\n",
    "    qr_obj = QuantumRegister(1, \"objective\")\n",
    "    qr_compare = QuantumRegister(1, \"compare\")\n",
    "\n",
    "    # define the circuit\n",
    "    state_preparation = QuantumCircuit(qr_state, qr_obj, qr_sum, qr_carry,qr_ctrl, name=\"A\")\n",
    "\n",
    "    # load the random variable\n",
    "    state_preparation.append(uncertainty_model, qr_state)\n",
    "\n",
    "    # aggregate\n",
    "    state_preparation.append(agg, qr_state[:] + qr_sum[:] + qr_carry[:] + qr_ctrl[:])\n",
    "\n",
    "    # comparator objective function\n",
    "    comparator = IntegerComparator(agg.num_sum_qubits, x_eval + 1, geq=False)\n",
    "    state_preparation.append(comparator, qr_sum[:] + qr_obj[:] + qr_carry[:])\n",
    "\n",
    "    # uncompute aggregation\n",
    "    state_preparation.append(agg.inverse(), qr_state[:] + qr_sum[:] + qr_carry[:]+qr_ctrl[:])\n",
    "\n",
    "    return state_preparation\n",
    "\n",
    "\n",
    "state_preparation = get_cdf_circuit(x_eval)"
   ]
  },
  {
   "cell_type": "code",
   "execution_count": 78,
   "id": "d31d1c6a",
   "metadata": {},
   "outputs": [
    {
     "data": {
      "text/html": [
       "<pre style=\"word-wrap: normal;white-space: pre;background: #fff0;line-height: 1.1;font-family: &quot;Courier New&quot;,Courier,monospace\">           ┌───────┐┌─────────┐        ┌────────────┐\n",
       "  state_0: ┤0      ├┤0        ├────────┤0           ├\n",
       "           │       ││         │        │            │\n",
       "  state_1: ┤1      ├┤1        ├────────┤1           ├\n",
       "           │       ││         │        │            │\n",
       "  state_2: ┤2      ├┤2        ├────────┤2           ├\n",
       "           │  P(X) ││         │        │            │\n",
       "  state_3: ┤3      ├┤3        ├────────┤3           ├\n",
       "           │       ││         │        │            │\n",
       "  state_4: ┤4      ├┤4        ├────────┤4           ├\n",
       "           │       ││         │        │            │\n",
       "  state_5: ┤5      ├┤5        ├────────┤5           ├\n",
       "           └───────┘│         │┌──────┐│            │\n",
       "objective: ─────────┤         ├┤4     ├┤            ├\n",
       "                    │         ││      ││            │\n",
       "    sum_0: ─────────┤6  adder ├┤0     ├┤6  adder_dg ├\n",
       "                    │         ││      ││            │\n",
       "    sum_1: ─────────┤7        ├┤1     ├┤7           ├\n",
       "                    │         ││      ││            │\n",
       "    sum_2: ─────────┤8        ├┤2     ├┤8           ├\n",
       "                    │         ││  cmp ││            │\n",
       "    sum_3: ─────────┤9        ├┤3     ├┤9           ├\n",
       "                    │         ││      ││            │\n",
       "  carry_0: ─────────┤10       ├┤5     ├┤10          ├\n",
       "                    │         ││      ││            │\n",
       "  carry_1: ─────────┤11       ├┤6     ├┤11          ├\n",
       "                    │         ││      ││            │\n",
       "  carry_2: ─────────┤12       ├┤7     ├┤12          ├\n",
       "                    │         │└──────┘│            │\n",
       "  control: ─────────┤13       ├────────┤13          ├\n",
       "                    └─────────┘        └────────────┘</pre>"
      ],
      "text/plain": [
       "           ┌───────┐┌─────────┐        ┌────────────┐\n",
       "  state_0: ┤0      ├┤0        ├────────┤0           ├\n",
       "           │       ││         │        │            │\n",
       "  state_1: ┤1      ├┤1        ├────────┤1           ├\n",
       "           │       ││         │        │            │\n",
       "  state_2: ┤2      ├┤2        ├────────┤2           ├\n",
       "           │  P(X) ││         │        │            │\n",
       "  state_3: ┤3      ├┤3        ├────────┤3           ├\n",
       "           │       ││         │        │            │\n",
       "  state_4: ┤4      ├┤4        ├────────┤4           ├\n",
       "           │       ││         │        │            │\n",
       "  state_5: ┤5      ├┤5        ├────────┤5           ├\n",
       "           └───────┘│         │┌──────┐│            │\n",
       "objective: ─────────┤         ├┤4     ├┤            ├\n",
       "                    │         ││      ││            │\n",
       "    sum_0: ─────────┤6  adder ├┤0     ├┤6  adder_dg ├\n",
       "                    │         ││      ││            │\n",
       "    sum_1: ─────────┤7        ├┤1     ├┤7           ├\n",
       "                    │         ││      ││            │\n",
       "    sum_2: ─────────┤8        ├┤2     ├┤8           ├\n",
       "                    │         ││  cmp ││            │\n",
       "    sum_3: ─────────┤9        ├┤3     ├┤9           ├\n",
       "                    │         ││      ││            │\n",
       "  carry_0: ─────────┤10       ├┤5     ├┤10          ├\n",
       "                    │         ││      ││            │\n",
       "  carry_1: ─────────┤11       ├┤6     ├┤11          ├\n",
       "                    │         ││      ││            │\n",
       "  carry_2: ─────────┤12       ├┤7     ├┤12          ├\n",
       "                    │         │└──────┘│            │\n",
       "  control: ─────────┤13       ├────────┤13          ├\n",
       "                    └─────────┘        └────────────┘"
      ]
     },
     "execution_count": 78,
     "metadata": {},
     "output_type": "execute_result"
    }
   ],
   "source": [
    "state_preparation.draw()"
   ]
  },
  {
   "cell_type": "code",
   "execution_count": 79,
   "id": "ecbd2fcc",
   "metadata": {},
   "outputs": [],
   "source": [
    "state_preparation_measure = state_preparation.measure_all(inplace=False)\n",
    "sampler = Sampler()\n",
    "job = sampler.run(state_preparation_measure)\n",
    "binary_probabilities = job.result().quasi_dists[0].binary_probabilities()"
   ]
  },
  {
   "cell_type": "code",
   "execution_count": 80,
   "id": "42b0b3b9",
   "metadata": {},
   "outputs": [
    {
     "name": "stdout",
     "output_type": "stream",
     "text": [
      "Operator CDF(2) = 0.3311\n",
      "Exact    CDF(2) = 0.3350\n"
     ]
    }
   ],
   "source": [
    "# evaluate the result\n",
    "var_prob = 0\n",
    "for i, prob in binary_probabilities.items():\n",
    "    if prob > 1e-6 and i[-(len(qr_state) + 1) :][0] == \"1\":\n",
    "        var_prob += prob\n",
    "\n",
    "print(\"Operator CDF(%s)\" % x_eval + \" = %.4f\" % var_prob)\n",
    "print(\"Exact    CDF(%s)\" % x_eval + \" = %.4f\" % cdf[x_eval])"
   ]
  },
  {
   "cell_type": "code",
   "execution_count": 81,
   "id": "7bca93df",
   "metadata": {},
   "outputs": [
    {
     "name": "stdout",
     "output_type": "stream",
     "text": [
      "Exact value:    \t0.3350\n",
      "Estimated value:\t0.3181\n",
      "Confidence interval: \t[0.3151, 0.3211]\n"
     ]
    }
   ],
   "source": [
    "# set target precision and confidence level\n",
    "epsilon = 0.01\n",
    "alpha = 0.05\n",
    "\n",
    "problem = EstimationProblem(state_preparation=state_preparation, objective_qubits=[len(qr_state)])\n",
    "# construct amplitude estimation\n",
    "ae_cdf = IterativeAmplitudeEstimation(\n",
    "    epsilon_target=epsilon, alpha=alpha, sampler=Sampler(run_options={\"shots\": 100})\n",
    ")\n",
    "result_cdf = ae_cdf.estimate(problem)\n",
    "\n",
    "# print results\n",
    "conf_int = np.array(result_cdf.confidence_interval)\n",
    "print(\"Exact value:    \\t%.4f\" % cdf[x_eval])\n",
    "print(\"Estimated value:\\t%.4f\" % result_cdf.estimation)\n",
    "print(\"Confidence interval: \\t[%.4f, %.4f]\" % tuple(conf_int))"
   ]
  },
  {
   "cell_type": "code",
   "execution_count": 87,
   "id": "635c23aa",
   "metadata": {},
   "outputs": [],
   "source": [
    "def run_iter_ae_for_cdf(x_eval, epsilon=0.01, alpha=0.05, simulator=\"aer_simulator\"):\n",
    "\n",
    "    # construct amplitude estimation\n",
    "    state_preparation = get_cdf_circuit(x_eval)\n",
    "    problem = EstimationProblem(\n",
    "        state_preparation=state_preparation, objective_qubits=[len(qr_state)]\n",
    "    )\n",
    "    iter_ae_var = IterativeAmplitudeEstimation(\n",
    "        epsilon_target=epsilon, alpha=alpha, sampler=Sampler(run_options={\"shots\": 100})\n",
    "    )\n",
    "    result_var = iter_ae_var.estimate(problem)\n",
    "\n",
    "    return result_var.estimation"
   ]
  },
  {
   "cell_type": "code",
   "execution_count": 88,
   "id": "1ad8c402",
   "metadata": {},
   "outputs": [],
   "source": [
    "def bisection_search(\n",
    "    objective, target_value, low_level, high_level, low_value=None, high_value=None\n",
    "):\n",
    "    \"\"\"\n",
    "    Determines the smallest level such that the objective value is still larger than the target\n",
    "    :param objective: objective function\n",
    "    :param target: target value\n",
    "    :param low_level: lowest level to be considered\n",
    "    :param high_level: highest level to be considered\n",
    "    :param low_value: value of lowest level (will be evaluated if set to None)\n",
    "    :param high_value: value of highest level (will be evaluated if set to None)\n",
    "    :return: dictionary with level, value, num_eval\n",
    "    \"\"\"\n",
    "\n",
    "    # check whether low and high values are given and evaluated them otherwise\n",
    "    print(\"--------------------------------------------------------------------\")\n",
    "    print(\"start bisection search for target value %.3f\" % target_value)\n",
    "    print(\"--------------------------------------------------------------------\")\n",
    "    num_eval = 0\n",
    "    if low_value is None:\n",
    "        low_value = objective(low_level)\n",
    "        num_eval += 1\n",
    "    if high_value is None:\n",
    "        high_value = objective(high_level)\n",
    "        num_eval += 1\n",
    "\n",
    "    # check if low_value already satisfies the condition\n",
    "    if low_value > target_value:\n",
    "        return {\n",
    "            \"level\": low_level,\n",
    "            \"value\": low_value,\n",
    "            \"num_eval\": num_eval,\n",
    "            \"comment\": \"returned low value\",\n",
    "        }\n",
    "    elif low_value == target_value:\n",
    "        return {\"level\": low_level, \"value\": low_value, \"num_eval\": num_eval, \"comment\": \"success\"}\n",
    "\n",
    "    # check if high_value is above target\n",
    "    if high_value < target_value:\n",
    "        return {\n",
    "            \"level\": high_level,\n",
    "            \"value\": high_value,\n",
    "            \"num_eval\": num_eval,\n",
    "            \"comment\": \"returned low value\",\n",
    "        }\n",
    "    elif high_value == target_value:\n",
    "        return {\n",
    "            \"level\": high_level,\n",
    "            \"value\": high_value,\n",
    "            \"num_eval\": num_eval,\n",
    "            \"comment\": \"success\",\n",
    "        }\n",
    "\n",
    "    # perform bisection search until\n",
    "    print(\"low_level    low_value    level    value    high_level    high_value\")\n",
    "    print(\"--------------------------------------------------------------------\")\n",
    "    while high_level - low_level > 1:\n",
    "\n",
    "        level = int(np.round((high_level + low_level) / 2.0))\n",
    "        num_eval += 1\n",
    "        value = objective(level)\n",
    "\n",
    "        print(\n",
    "            \"%2d           %.3f        %2d       %.3f    %2d            %.3f\"\n",
    "            % (low_level, low_value, level, value, high_level, high_value)\n",
    "        )\n",
    "\n",
    "        if value >= target_value:\n",
    "            high_level = level\n",
    "            high_value = value\n",
    "        else:\n",
    "            low_level = level\n",
    "            low_value = value\n",
    "\n",
    "    # return high value after bisection search\n",
    "    print(\"--------------------------------------------------------------------\")\n",
    "    print(\"finished bisection search\")\n",
    "    print(\"--------------------------------------------------------------------\")\n",
    "    return {\"level\": high_level, \"value\": high_value, \"num_eval\": num_eval, \"comment\": \"success\"}"
   ]
  },
  {
   "cell_type": "code",
   "execution_count": 89,
   "id": "0c040240",
   "metadata": {},
   "outputs": [
    {
     "name": "stdout",
     "output_type": "stream",
     "text": [
      "--------------------------------------------------------------------\n",
      "start bisection search for target value 0.950\n",
      "--------------------------------------------------------------------\n",
      "low_level    low_value    level    value    high_level    high_value\n",
      "--------------------------------------------------------------------\n",
      "-1           0.000         4       0.685    10            1.000\n",
      " 4           0.685         7       0.922    10            1.000\n",
      " 7           0.922         8       0.946    10            1.000\n",
      " 8           0.946         9       0.988    10            1.000\n",
      "--------------------------------------------------------------------\n",
      "finished bisection search\n",
      "--------------------------------------------------------------------\n"
     ]
    }
   ],
   "source": [
    "# run bisection search to determine VaR\n",
    "objective = lambda x: run_iter_ae_for_cdf(x)\n",
    "bisection_result = bisection_search(\n",
    "    objective, 1 - alpha, min(losses) - 1, max(losses), low_value=0, high_value=1\n",
    ")\n",
    "var = bisection_result[\"level\"]"
   ]
  },
  {
   "cell_type": "code",
   "execution_count": 91,
   "id": "4849930b",
   "metadata": {},
   "outputs": [
    {
     "name": "stdout",
     "output_type": "stream",
     "text": [
      "Estimated Value at Risk:  9\n",
      "Exact Value at Risk:      9\n",
      "Estimated Probability:    0.988\n",
      "Exact Probability:        0.987\n"
     ]
    }
   ],
   "source": [
    "print(\"Estimated Value at Risk: %2d\" % var)\n",
    "print(\"Exact Value at Risk:     %2d\" % exact_var)\n",
    "print(\"Estimated Probability:    %.3f\" % bisection_result[\"value\"])\n",
    "print(\"Exact Probability:        %.3f\" % cdf[exact_var])"
   ]
  },
  {
   "cell_type": "code",
   "execution_count": 92,
   "id": "24623e0d",
   "metadata": {},
   "outputs": [
    {
     "data": {
      "text/html": [
       "<pre style=\"word-wrap: normal;white-space: pre;background: #fff0;line-height: 1.1;font-family: &quot;Courier New&quot;,Courier,monospace\">        ┌────┐\n",
       "q566_0: ┤0   ├\n",
       "        │    │\n",
       "q566_1: ┤1   ├\n",
       "        │    │\n",
       "q566_2: ┤2   ├\n",
       "        │    │\n",
       "q566_3: ┤3   ├\n",
       "        │    │\n",
       "  q567: ┤4 F ├\n",
       "        │    │\n",
       " a11_0: ┤5   ├\n",
       "        │    │\n",
       " a11_1: ┤6   ├\n",
       "        │    │\n",
       " a11_2: ┤7   ├\n",
       "        │    │\n",
       " a11_3: ┤8   ├\n",
       "        └────┘</pre>"
      ],
      "text/plain": [
       "        ┌────┐\n",
       "q566_0: ┤0   ├\n",
       "        │    │\n",
       "q566_1: ┤1   ├\n",
       "        │    │\n",
       "q566_2: ┤2   ├\n",
       "        │    │\n",
       "q566_3: ┤3   ├\n",
       "        │    │\n",
       "  q567: ┤4 F ├\n",
       "        │    │\n",
       " a11_0: ┤5   ├\n",
       "        │    │\n",
       " a11_1: ┤6   ├\n",
       "        │    │\n",
       " a11_2: ┤7   ├\n",
       "        │    │\n",
       " a11_3: ┤8   ├\n",
       "        └────┘"
      ]
     },
     "execution_count": 92,
     "metadata": {},
     "output_type": "execute_result"
    }
   ],
   "source": [
    "# define linear objective\n",
    "breakpoints = [0, var]\n",
    "slopes = [0, 1]\n",
    "offsets = [0, 0]  # subtract VaR and add it later to the estimate\n",
    "f_min = 0\n",
    "f_max = 3 - var\n",
    "c_approx = 0.25\n",
    "\n",
    "cvar_objective = LinearAmplitudeFunction(\n",
    "    agg.num_sum_qubits,\n",
    "    slopes,\n",
    "    offsets,\n",
    "    domain=(0, 2**agg.num_sum_qubits - 1),\n",
    "    image=(f_min, f_max),\n",
    "    rescaling_factor=c_approx,\n",
    "    breakpoints=breakpoints,\n",
    ")\n",
    "\n",
    "cvar_objective.draw()"
   ]
  },
  {
   "cell_type": "code",
   "execution_count": 96,
   "id": "a25766ee",
   "metadata": {},
   "outputs": [
    {
     "data": {
      "text/html": [
       "<pre style=\"word-wrap: normal;white-space: pre;background: #fff0;line-height: 1.1;font-family: &quot;Courier New&quot;,Courier,monospace\">           ┌───────┐┌─────────┐      ┌────────────┐\n",
       "  state_0: ┤0      ├┤0        ├──────┤0           ├\n",
       "           │       ││         │      │            │\n",
       "  state_1: ┤1      ├┤1        ├──────┤1           ├\n",
       "           │       ││         │      │            │\n",
       "  state_2: ┤2      ├┤2        ├──────┤2           ├\n",
       "           │  P(X) ││         │      │            │\n",
       "  state_3: ┤3      ├┤3        ├──────┤3           ├\n",
       "           │       ││         │      │            │\n",
       "  state_4: ┤4      ├┤4        ├──────┤4           ├\n",
       "           │       ││         │      │            │\n",
       "  state_5: ┤5      ├┤5        ├──────┤5           ├\n",
       "           └───────┘│         │┌────┐│            │\n",
       "objective: ─────────┤         ├┤4   ├┤            ├\n",
       "                    │         ││    ││            │\n",
       "    sum_0: ─────────┤6  adder ├┤0   ├┤6  adder_dg ├\n",
       "                    │         ││    ││            │\n",
       "    sum_1: ─────────┤7        ├┤1   ├┤7           ├\n",
       "                    │         ││    ││            │\n",
       "    sum_2: ─────────┤8        ├┤2   ├┤8           ├\n",
       "                    │         ││    ││            │\n",
       "    sum_3: ─────────┤9        ├┤3   ├┤9           ├\n",
       "                    │         ││  F ││            │\n",
       "  carry_0: ─────────┤10       ├┤5   ├┤10          ├\n",
       "                    │         ││    ││            │\n",
       "  carry_1: ─────────┤11       ├┤6   ├┤11          ├\n",
       "                    │         ││    ││            │\n",
       "  carry_2: ─────────┤12       ├┤7   ├┤12          ├\n",
       "                    │         ││    ││            │\n",
       "  control: ─────────┤13       ├┤    ├┤13          ├\n",
       "                    └─────────┘│    │└────────────┘\n",
       "     work: ────────────────────┤8   ├──────────────\n",
       "                               └────┘              </pre>"
      ],
      "text/plain": [
       "           ┌───────┐┌─────────┐      ┌────────────┐\n",
       "  state_0: ┤0      ├┤0        ├──────┤0           ├\n",
       "           │       ││         │      │            │\n",
       "  state_1: ┤1      ├┤1        ├──────┤1           ├\n",
       "           │       ││         │      │            │\n",
       "  state_2: ┤2      ├┤2        ├──────┤2           ├\n",
       "           │  P(X) ││         │      │            │\n",
       "  state_3: ┤3      ├┤3        ├──────┤3           ├\n",
       "           │       ││         │      │            │\n",
       "  state_4: ┤4      ├┤4        ├──────┤4           ├\n",
       "           │       ││         │      │            │\n",
       "  state_5: ┤5      ├┤5        ├──────┤5           ├\n",
       "           └───────┘│         │┌────┐│            │\n",
       "objective: ─────────┤         ├┤4   ├┤            ├\n",
       "                    │         ││    ││            │\n",
       "    sum_0: ─────────┤6  adder ├┤0   ├┤6  adder_dg ├\n",
       "                    │         ││    ││            │\n",
       "    sum_1: ─────────┤7        ├┤1   ├┤7           ├\n",
       "                    │         ││    ││            │\n",
       "    sum_2: ─────────┤8        ├┤2   ├┤8           ├\n",
       "                    │         ││    ││            │\n",
       "    sum_3: ─────────┤9        ├┤3   ├┤9           ├\n",
       "                    │         ││  F ││            │\n",
       "  carry_0: ─────────┤10       ├┤5   ├┤10          ├\n",
       "                    │         ││    ││            │\n",
       "  carry_1: ─────────┤11       ├┤6   ├┤11          ├\n",
       "                    │         ││    ││            │\n",
       "  carry_2: ─────────┤12       ├┤7   ├┤12          ├\n",
       "                    │         ││    ││            │\n",
       "  control: ─────────┤13       ├┤    ├┤13          ├\n",
       "                    └─────────┘│    │└────────────┘\n",
       "     work: ────────────────────┤8   ├──────────────\n",
       "                               └────┘              "
      ]
     },
     "execution_count": 96,
     "metadata": {},
     "output_type": "execute_result"
    }
   ],
   "source": [
    "# define the registers for convenience and readability\n",
    "qr_state = QuantumRegister(uncertainty_model.num_qubits, \"state\")\n",
    "qr_sum = QuantumRegister(agg.num_sum_qubits, \"sum\")\n",
    "qr_carry = QuantumRegister(agg.num_carry_qubits, \"carry\")\n",
    "qr_ctrl = QuantumRegister(agg.num_control_qubits, \"control\")\n",
    "qr_obj = QuantumRegister(1, \"objective\")\n",
    "qr_work = QuantumRegister(cvar_objective.num_ancillas - len(qr_carry), \"work\")\n",
    "\n",
    "# define the circuit\n",
    "state_preparation = QuantumCircuit(qr_state, qr_obj, qr_sum, qr_carry,qr_ctrl, qr_work, name=\"A\")\n",
    "\n",
    "# load the random variable\n",
    "state_preparation.append(uncertainty_model, qr_state)\n",
    "\n",
    "# aggregate\n",
    "state_preparation.append(agg, qr_state[:] + qr_sum[:] + qr_carry[:] + qr_ctrl[:])\n",
    "\n",
    "# linear objective function\n",
    "state_preparation.append(cvar_objective, qr_sum[:] + qr_obj[:] + qr_carry[:] + qr_work[:])\n",
    "\n",
    "# uncompute aggregation\n",
    "state_preparation.append(agg.inverse(), qr_state[:] + qr_sum[:] + qr_carry[:] +qr_ctrl[:])\n",
    "state_preparation.draw()"
   ]
  },
  {
   "cell_type": "code",
   "execution_count": 97,
   "id": "f501c675",
   "metadata": {},
   "outputs": [],
   "source": [
    "state_preparation_measure = state_preparation.measure_all(inplace=False)\n",
    "sampler = Sampler()\n",
    "job = sampler.run(state_preparation_measure)\n",
    "binary_probabilities = job.result().quasi_dists[0].binary_probabilities()\n"
   ]
  },
  {
   "cell_type": "code",
   "execution_count": 98,
   "id": "cf2cc443",
   "metadata": {},
   "outputs": [
    {
     "name": "stdout",
     "output_type": "stream",
     "text": [
      "Estimated CVaR: 31.6728\n",
      "Exact CVaR:     10.0000\n"
     ]
    }
   ],
   "source": [
    "# evaluate the result\n",
    "value = 0\n",
    "for i, prob in binary_probabilities.items():\n",
    "    if prob > 1e-6 and i[-(len(qr_state) + 1)] == \"1\":\n",
    "        value += prob\n",
    "\n",
    "# normalize and add VaR to estimate\n",
    "value = cvar_objective.post_processing(value)\n",
    "d = 1.0 - bisection_result[\"value\"]\n",
    "v = value / d if d != 0 else 0\n",
    "normalized_value = v + var\n",
    "print(\"Estimated CVaR: %.4f\" % normalized_value)\n",
    "print(\"Exact CVaR:     %.4f\" % exact_cvar)"
   ]
  },
  {
   "cell_type": "code",
   "execution_count": 99,
   "id": "3da0da10",
   "metadata": {},
   "outputs": [],
   "source": [
    "# set target precision and confidence level\n",
    "epsilon = 0.01\n",
    "alpha = 0.05\n",
    "\n",
    "problem = EstimationProblem(\n",
    "    state_preparation=state_preparation,\n",
    "    objective_qubits=[len(qr_state)],\n",
    "    post_processing=cvar_objective.post_processing,\n",
    ")\n",
    "# construct amplitude estimation\n",
    "ae_cvar = IterativeAmplitudeEstimation(\n",
    "    epsilon_target=epsilon, alpha=alpha, sampler=Sampler(run_options={\"shots\": 100})\n",
    ")\n",
    "result_cvar = ae_cvar.estimate(problem)"
   ]
  },
  {
   "cell_type": "code",
   "execution_count": 100,
   "id": "13cf8588",
   "metadata": {},
   "outputs": [
    {
     "name": "stdout",
     "output_type": "stream",
     "text": [
      "Exact CVaR:    \t10.0000\n",
      "Estimated CVaR:\t3.6002\n"
     ]
    }
   ],
   "source": [
    "# print results\n",
    "d = 1.0 - bisection_result[\"value\"]\n",
    "v = result_cvar.estimation_processed / d if d != 0 else 0\n",
    "print(\"Exact CVaR:    \\t%.4f\" % exact_cvar)\n",
    "print(\"Estimated CVaR:\\t%.4f\" % (v + var))"
   ]
  },
  {
   "cell_type": "code",
   "execution_count": 101,
   "id": "b31aac56",
   "metadata": {},
   "outputs": [
    {
     "data": {
      "text/plain": [
       "'\\n4 quantum bits\\nExact CVaR:    \\t3.0000\\nEstimated CVaR:\\t3.1683\\n'"
      ]
     },
     "execution_count": 101,
     "metadata": {},
     "output_type": "execute_result"
    }
   ],
   "source": [
    "\"\"\"\n",
    "2 quantum bits\n",
    "Exact CVaR:    \t3.0000\n",
    "Estimated CVaR:\t3.2102\n",
    "\"\"\"\n",
    "\n",
    "\n",
    "\"\"\"\n",
    "3 quantum bits\n",
    "Exact CVaR:    \t3.0000\n",
    "Estimated CVaR:\t3.1234\n",
    "\"\"\"\n",
    "\n",
    "\n",
    "\"\"\"\n",
    "4 quantum bits\n",
    "Exact CVaR:    \t3.0000\n",
    "Estimated CVaR:\t3.1683\n",
    "\"\"\""
   ]
  },
  {
   "cell_type": "code",
   "execution_count": null,
   "id": "129d4981",
   "metadata": {},
   "outputs": [],
   "source": []
  }
 ],
 "metadata": {
  "kernelspec": {
   "display_name": "Python 3 (ipykernel)",
   "language": "python",
   "name": "python3"
  },
  "language_info": {
   "codemirror_mode": {
    "name": "ipython",
    "version": 3
   },
   "file_extension": ".py",
   "mimetype": "text/x-python",
   "name": "python",
   "nbconvert_exporter": "python",
   "pygments_lexer": "ipython3",
   "version": "3.9.16"
  }
 },
 "nbformat": 4,
 "nbformat_minor": 5
}
