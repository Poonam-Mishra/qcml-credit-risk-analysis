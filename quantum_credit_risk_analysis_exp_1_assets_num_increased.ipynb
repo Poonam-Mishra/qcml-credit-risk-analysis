{
 "cells": [
  {
   "cell_type": "code",
   "execution_count": 1,
   "id": "46606705",
   "metadata": {},
   "outputs": [],
   "source": [
    "import numpy as np\n",
    "import matplotlib.pyplot as plt\n",
    "\n",
    "from qiskit import QuantumRegister, QuantumCircuit\n",
    "from qiskit.circuit.library import IntegerComparator\n",
    "from qiskit.algorithms import IterativeAmplitudeEstimation, EstimationProblem, MaximumLikelihoodAmplitudeEstimation,FasterAmplitudeEstimation\n",
    "from qiskit_aer.primitives import Sampler"
   ]
  },
  {
   "cell_type": "code",
   "execution_count": 2,
   "id": "5caf6f4b",
   "metadata": {},
   "outputs": [],
   "source": [
    "# set problem parameters\n",
    "q = 2\n",
    "z_max = 2\n",
    "z_values = np.linspace(-z_max, z_max, 2**q)\n",
    "prob_default_k = [0.15, 0.25,0.56,0.3]#considering 4 assets\n",
    "sens_default_z = [0.1, 0.05,0.03, 0.4]\n",
    "loss_given_default_k = [1, 2,2,1]\n",
    "num_assets = len(prob_default_k)\n",
    "alpha = 0.05"
   ]
  },
  {
   "cell_type": "code",
   "execution_count": 3,
   "id": "0c4d87aa",
   "metadata": {},
   "outputs": [],
   "source": [
    "#pip install 'qiskit[finance]'"
   ]
  },
  {
   "cell_type": "code",
   "execution_count": 4,
   "id": "3e2fb4e3",
   "metadata": {},
   "outputs": [],
   "source": [
    "from qiskit_finance.circuit.library import GaussianConditionalIndependenceModel as GCI\n",
    "\n",
    "uncertainty_model = GCI(q, z_max, prob_default_k, sens_default_z)\n"
   ]
  },
  {
   "cell_type": "code",
   "execution_count": 5,
   "id": "7017bf0a",
   "metadata": {},
   "outputs": [
    {
     "data": {
      "text/html": [
       "<pre style=\"word-wrap: normal;white-space: pre;background: #fff0;line-height: 1.1;font-family: &quot;Courier New&quot;,Courier,monospace\">     ┌───────┐\n",
       "q_0: ┤0      ├\n",
       "     │       │\n",
       "q_1: ┤1      ├\n",
       "     │       │\n",
       "q_2: ┤2      ├\n",
       "     │  P(X) │\n",
       "q_3: ┤3      ├\n",
       "     │       │\n",
       "q_4: ┤4      ├\n",
       "     │       │\n",
       "q_5: ┤5      ├\n",
       "     └───────┘</pre>"
      ],
      "text/plain": [
       "     ┌───────┐\n",
       "q_0: ┤0      ├\n",
       "     │       │\n",
       "q_1: ┤1      ├\n",
       "     │       │\n",
       "q_2: ┤2      ├\n",
       "     │  P(X) │\n",
       "q_3: ┤3      ├\n",
       "     │       │\n",
       "q_4: ┤4      ├\n",
       "     │       │\n",
       "q_5: ┤5      ├\n",
       "     └───────┘"
      ]
     },
     "execution_count": 5,
     "metadata": {},
     "output_type": "execute_result"
    }
   ],
   "source": [
    "uncertainty_model.draw()"
   ]
  },
  {
   "cell_type": "code",
   "execution_count": 6,
   "id": "15a54a90",
   "metadata": {},
   "outputs": [
    {
     "name": "stdout",
     "output_type": "stream",
     "text": [
      "{'010000': 0.0009765625, '000111': 0.0009765625, '010100': 0.001953125, '000101': 0.01171875, '011101': 0.0078125, '110001': 0.05859375, '000000': 0.0029296875, '001001': 0.0205078125, '011011': 0.0029296875, '001011': 0.0029296875, '001101': 0.00390625, '011100': 0.0048828125, '110110': 0.001953125, '000001': 0.0556640625, '100101': 0.0087890625, '000100': 0.001953125, '001000': 0.001953125, '111100': 0.005859375, '111010': 0.0048828125, '010111': 0.0009765625, '010001': 0.0859375, '010110': 0.0146484375, '001110': 0.001953125, '010011': 0.021484375, '101110': 0.0009765625, '110100': 0.0068359375, '011110': 0.0029296875, '101101': 0.0029296875, '111001': 0.03515625, '100001': 0.0322265625, '011001': 0.029296875, '100000': 0.0107421875, '100100': 0.00390625, '011000': 0.001953125, '101000': 0.001953125, '001010': 0.033203125, '000110': 0.0126953125, '111101': 0.005859375, '111000': 0.009765625, '000010': 0.1396484375, '110101': 0.0224609375, '110000': 0.0244140625, '100010': 0.015625, '010010': 0.15625, '110010': 0.0126953125, '011010': 0.033203125, '000011': 0.0322265625, '101100': 0.005859375, '101001': 0.021484375, '101010': 0.0048828125, '010101': 0.0146484375}\n",
      "SamplerResult(quasi_dists=[{16: 0.0009765625, 7: 0.0009765625, 20: 0.001953125, 5: 0.01171875, 29: 0.0078125, 49: 0.05859375, 0: 0.0029296875, 9: 0.0205078125, 27: 0.0029296875, 11: 0.0029296875, 13: 0.00390625, 28: 0.0048828125, 54: 0.001953125, 1: 0.0556640625, 37: 0.0087890625, 4: 0.001953125, 8: 0.001953125, 60: 0.005859375, 58: 0.0048828125, 23: 0.0009765625, 17: 0.0859375, 22: 0.0146484375, 14: 0.001953125, 19: 0.021484375, 46: 0.0009765625, 52: 0.0068359375, 30: 0.0029296875, 45: 0.0029296875, 57: 0.03515625, 33: 0.0322265625, 25: 0.029296875, 32: 0.0107421875, 36: 0.00390625, 24: 0.001953125, 40: 0.001953125, 10: 0.033203125, 6: 0.0126953125, 61: 0.005859375, 56: 0.009765625, 2: 0.1396484375, 53: 0.0224609375, 48: 0.0244140625, 34: 0.015625, 18: 0.15625, 50: 0.0126953125, 26: 0.033203125, 3: 0.0322265625, 44: 0.005859375, 41: 0.021484375, 42: 0.0048828125, 21: 0.0146484375}], metadata=[{'shots': 1024, 'simulator_metadata': {'parallel_state_update': 10, 'parallel_shots': 1, 'sample_measure_time': 0.000696375, 'noise': 'ideal', 'batched_shots_optimization': False, 'remapped_qubits': False, 'device': 'CPU', 'active_input_qubits': [0, 1, 2, 3, 4, 5], 'measure_sampling': True, 'num_clbits': 6, 'input_qubit_map': [[5, 5], [4, 4], [3, 3], [2, 2], [1, 1], [0, 0]], 'num_qubits': 6, 'method': 'statevector', 'fusion': {'applied': False, 'max_fused_qubits': 5, 'threshold': 14, 'enabled': True}}}])\n"
     ]
    }
   ],
   "source": [
    "uncertainty_measure = uncertainty_model.measure_all(inplace=False)\n",
    "sampler = Sampler()\n",
    "job = sampler.run(uncertainty_measure)\n",
    "binary_probabilities = job.result().quasi_dists[0].binary_probabilities()\n",
    "print(binary_probabilities)\n",
    "print(job.result())"
   ]
  },
  {
   "cell_type": "code",
   "execution_count": 7,
   "id": "3eab5f83",
   "metadata": {},
   "outputs": [
    {
     "name": "stdout",
     "output_type": "stream",
     "text": [
      "51\n",
      "dict_items([('010000', 0.0009765625), ('000111', 0.0009765625), ('010100', 0.001953125), ('000101', 0.01171875), ('011101', 0.0078125), ('110001', 0.05859375), ('000000', 0.0029296875), ('001001', 0.0205078125), ('011011', 0.0029296875), ('001011', 0.0029296875), ('001101', 0.00390625), ('011100', 0.0048828125), ('110110', 0.001953125), ('000001', 0.0556640625), ('100101', 0.0087890625), ('000100', 0.001953125), ('001000', 0.001953125), ('111100', 0.005859375), ('111010', 0.0048828125), ('010111', 0.0009765625), ('010001', 0.0859375), ('010110', 0.0146484375), ('001110', 0.001953125), ('010011', 0.021484375), ('101110', 0.0009765625), ('110100', 0.0068359375), ('011110', 0.0029296875), ('101101', 0.0029296875), ('111001', 0.03515625), ('100001', 0.0322265625), ('011001', 0.029296875), ('100000', 0.0107421875), ('100100', 0.00390625), ('011000', 0.001953125), ('101000', 0.001953125), ('001010', 0.033203125), ('000110', 0.0126953125), ('111101', 0.005859375), ('111000', 0.009765625), ('000010', 0.1396484375), ('110101', 0.0224609375), ('110000', 0.0244140625), ('100010', 0.015625), ('010010', 0.15625), ('110010', 0.0126953125), ('011010', 0.033203125), ('000011', 0.0322265625), ('101100', 0.005859375), ('101001', 0.021484375), ('101010', 0.0048828125), ('010101', 0.0146484375)])\n"
     ]
    }
   ],
   "source": [
    "print(len(binary_probabilities))\n",
    "print(binary_probabilities.items())"
   ]
  },
  {
   "cell_type": "code",
   "execution_count": 8,
   "id": "20562c73",
   "metadata": {},
   "outputs": [
    {
     "data": {
      "text/plain": [
       "array([0., 0., 0., 0.])"
      ]
     },
     "execution_count": 8,
     "metadata": {},
     "output_type": "execute_result"
    }
   ],
   "source": [
    "np.zeros(2**q)"
   ]
  },
  {
   "cell_type": "code",
   "execution_count": 9,
   "id": "6b2072a7",
   "metadata": {},
   "outputs": [
    {
     "name": "stdout",
     "output_type": "stream",
     "text": [
      "values [2 1 3 1 5 3 0 2 4 2 3 5 4 0 2 1 2 6 5 3 2 3 3 2 4 4 5 4 5 1 4 1 2 4 3 2 1\n",
      " 6 5 0 4 3 1 2 3 4 0 4 3 3 3]\n",
      "probabilities [0.00097656 0.00097656 0.00195312 0.01171875 0.0078125  0.05859375\n",
      " 0.00292969 0.02050781 0.00292969 0.00292969 0.00390625 0.00488281\n",
      " 0.00195312 0.05566406 0.00878906 0.00195312 0.00195312 0.00585938\n",
      " 0.00488281 0.00097656 0.0859375  0.01464844 0.00195312 0.02148438\n",
      " 0.00097656 0.00683594 0.00292969 0.00292969 0.03515625 0.03222656\n",
      " 0.02929688 0.01074219 0.00390625 0.00195312 0.00195312 0.03320312\n",
      " 0.01269531 0.00585938 0.00976562 0.13964844 0.02246094 0.02441406\n",
      " 0.015625   0.15625    0.01269531 0.03320312 0.03222656 0.00585938\n",
      " 0.02148438 0.00488281 0.01464844]\n",
      "expected_loss 2.0751953125\n",
      "losses [0 1 2 3 4 5 6]\n"
     ]
    }
   ],
   "source": [
    "# analyze uncertainty circuit and determine exact solutions\n",
    "p_z = np.zeros(2**q)\n",
    "p_default = np.zeros(num_assets)\n",
    "values = []\n",
    "probabilities = []\n",
    "num_qubits = uncertainty_model.num_qubits\n",
    "\n",
    "for i, prob in binary_probabilities.items():\n",
    "    # extract value of Z and corresponding probability\n",
    "    i_normal = int(i[-q:], 2)\n",
    "    p_z[i_normal] += prob\n",
    "\n",
    "    # determine overall default probability for k\n",
    "    loss = 0\n",
    "    for k in range(num_assets):\n",
    "        if i[num_assets - k - 1] == \"1\":\n",
    "            p_default[k] += prob\n",
    "            loss += loss_given_default_k[k]\n",
    "\n",
    "    values += [loss]\n",
    "    probabilities += [prob]\n",
    "\n",
    "\n",
    "values = np.array(values)\n",
    "probabilities = np.array(probabilities)\n",
    "\n",
    "print(\"values\", values)\n",
    "print(\"probabilities\", probabilities)\n",
    "expected_loss = np.dot(values, probabilities)\n",
    "losses = np.sort(np.unique(values))\n",
    "\n",
    "print(\"expected_loss\", expected_loss)\n",
    "print(\"losses\", losses)\n",
    "\n",
    "pdf = np.zeros(len(losses))\n",
    "for i, v in enumerate(losses):\n",
    "    pdf[i] += sum(probabilities[values == v])\n",
    "cdf = np.cumsum(pdf)\n",
    "\n",
    "i_var = np.argmax(cdf >= 1 - alpha)#returns indices of the max element of the array in a particular axis.\n",
    "exact_var = losses[i_var]#max loss\n",
    "exact_cvar = np.dot(pdf[(i_var + 1) :], losses[(i_var + 1) :]) / sum(pdf[(i_var + 1) :])"
   ]
  },
  {
   "cell_type": "code",
   "execution_count": 10,
   "id": "b5c24eb1",
   "metadata": {},
   "outputs": [
    {
     "name": "stdout",
     "output_type": "stream",
     "text": [
      "51\n"
     ]
    }
   ],
   "source": [
    "print(len(values))"
   ]
  },
  {
   "cell_type": "code",
   "execution_count": 11,
   "id": "792a4e0f",
   "metadata": {},
   "outputs": [
    {
     "name": "stdout",
     "output_type": "stream",
     "text": [
      "Expected Loss E[L]:                2.0752\n",
      "Value at Risk VaR[L]:              5.0000\n",
      "P[L <= VaR[L]]:                    0.9883\n",
      "Conditional Value at Risk CVaR[L]: 6.0000\n"
     ]
    }
   ],
   "source": [
    "print(\"Expected Loss E[L]:                %.4f\" % expected_loss)\n",
    "print(\"Value at Risk VaR[L]:              %.4f\" % exact_var)\n",
    "print(\"P[L <= VaR[L]]:                    %.4f\" % cdf[exact_var])\n",
    "print(\"Conditional Value at Risk CVaR[L]: %.4f\" % exact_cvar)"
   ]
  },
  {
   "cell_type": "code",
   "execution_count": 12,
   "id": "f47e96eb",
   "metadata": {},
   "outputs": [
    {
     "data": {
      "image/png": "[encoded data removed]",
      "text/plain": [
       "<Figure size 640x480 with 1 Axes>"
      ]
     },
     "metadata": {},
     "output_type": "display_data"
    }
   ],
   "source": [
    "# plot loss PDF, expected loss, var, and cvar\n",
    "plt.bar(losses, pdf)\n",
    "plt.axvline(expected_loss, color=\"green\", linestyle=\"--\", label=\"E[L]\")\n",
    "plt.axvline(exact_var, color=\"orange\", linestyle=\"--\", label=\"VaR(L)\")\n",
    "plt.axvline(exact_cvar, color=\"red\", linestyle=\"--\", label=\"CVaR(L)\")\n",
    "plt.legend(fontsize=15)\n",
    "plt.xlabel(\"Loss L ($)\", size=15)\n",
    "plt.ylabel(\"probability (%)\", size=15)\n",
    "plt.title(\"Loss Distribution\", size=20)\n",
    "plt.xticks(size=15)\n",
    "plt.yticks(size=15)\n",
    "plt.show()"
   ]
  },
  {
   "cell_type": "code",
   "execution_count": 13,
   "id": "a8f7f803",
   "metadata": {},
   "outputs": [
    {
     "data": {
      "image/png": "[encoded data removed]",
      "text/plain": [
       "<Figure size 640x480 with 1 Axes>"
      ]
     },
     "metadata": {},
     "output_type": "display_data"
    }
   ],
   "source": [
    "# plot results for Z\n",
    "plt.plot(z_values, p_z, \"o-\", linewidth=3, markersize=8)\n",
    "plt.grid()\n",
    "plt.xlabel(\"Z value\", size=15)\n",
    "plt.ylabel(\"probability (%)\", size=15)\n",
    "plt.title(\"Z Distribution\", size=20)\n",
    "plt.xticks(size=15)\n",
    "plt.yticks(size=15)\n",
    "plt.show()"
   ]
  },
  {
   "cell_type": "code",
   "execution_count": 14,
   "id": "540484d9",
   "metadata": {},
   "outputs": [
    {
     "data": {
      "image/png": "[encoded data removed]",
      "text/plain": [
       "<Figure size 640x480 with 1 Axes>"
      ]
     },
     "metadata": {},
     "output_type": "display_data"
    }
   ],
   "source": [
    "# plot results for default probabilities\n",
    "plt.bar(range(num_assets), p_default)\n",
    "plt.xlabel(\"Asset\", size=15)\n",
    "plt.ylabel(\"probability (%)\", size=15)\n",
    "plt.title(\"Individual Default Probabilities\", size=20)\n",
    "plt.xticks(range(num_assets), size=15)\n",
    "plt.yticks(size=15)\n",
    "plt.grid()\n",
    "plt.show()"
   ]
  },
  {
   "cell_type": "code",
   "execution_count": 15,
   "id": "8bfafa26",
   "metadata": {},
   "outputs": [
    {
     "data": {
      "text/plain": [
       "[0, 0, 1, 2, 2, 1]"
      ]
     },
     "execution_count": 15,
     "metadata": {},
     "output_type": "execute_result"
    }
   ],
   "source": [
    " [0] * q + loss_given_default_k"
   ]
  },
  {
   "cell_type": "code",
   "execution_count": 16,
   "id": "02de884f",
   "metadata": {},
   "outputs": [
    {
     "name": "stdout",
     "output_type": "stream",
     "text": [
      "         ┌───────────────┐\n",
      "state_0: ┤0              ├\n",
      "         │               │\n",
      "state_1: ┤1              ├\n",
      "         │               │\n",
      "state_2: ┤2              ├\n",
      "         │               │\n",
      "state_3: ┤3              ├\n",
      "         │               │\n",
      "state_4: ┤4              ├\n",
      "         │               │\n",
      "state_5: ┤5              ├\n",
      "         │   circuit-143 │\n",
      "  sum_0: ┤6              ├\n",
      "         │               │\n",
      "  sum_1: ┤7              ├\n",
      "         │               │\n",
      "  sum_2: ┤8              ├\n",
      "         │               │\n",
      "carry_0: ┤9              ├\n",
      "         │               │\n",
      "carry_1: ┤10             ├\n",
      "         │               │\n",
      "control: ┤11             ├\n",
      "         └───────────────┘\n",
      "1\n"
     ]
    }
   ],
   "source": [
    "# add Z qubits with weight/loss 0\n",
    "from qiskit.circuit.library import WeightedAdder\n",
    "#weighted sum of qubit registers.\n",
    "agg = WeightedAdder(q + num_assets, [0] * q + loss_given_default_k)\n",
    "print(agg)\n",
    "print(agg.num_control_qubits)"
   ]
  },
  {
   "cell_type": "code",
   "execution_count": 17,
   "id": "773b987f",
   "metadata": {},
   "outputs": [],
   "source": [
    "from qiskit.circuit.library import LinearAmplitudeFunction\n",
    "\n",
    "# define linear objective function\n",
    "breakpoints = [0]\n",
    "slopes = [1]\n",
    "offsets = [0]\n",
    "f_min = 0\n",
    "f_max = sum(loss_given_default_k)\n",
    "c_approx = 0.25\n",
    "\n",
    "objective = LinearAmplitudeFunction(\n",
    "    agg.num_sum_qubits,\n",
    "    slope=slopes,\n",
    "    offset=offsets,\n",
    "    # max value that can be reached by the qubit register (will not always be reached)\n",
    "    domain=(0, 2**agg.num_sum_qubits - 1),\n",
    "    image=(f_min, f_max),\n",
    "    rescaling_factor=c_approx,\n",
    "    breakpoints=breakpoints,\n",
    ")"
   ]
  },
  {
   "cell_type": "code",
   "execution_count": 18,
   "id": "99e59fe8",
   "metadata": {},
   "outputs": [
    {
     "name": "stdout",
     "output_type": "stream",
     "text": [
      "       ┌────┐\n",
      "q10_0: ┤0   ├\n",
      "       │    │\n",
      "q10_1: ┤1   ├\n",
      "       │  F │\n",
      "q10_2: ┤2   ├\n",
      "       │    │\n",
      "  q11: ┤3   ├\n",
      "       └────┘\n",
      "[CircuitInstruction(operation=Instruction(name='F', num_qubits=4, num_clbits=0, params=[]), qubits=(Qubit(QuantumRegister(3, 'q10'), 0), Qubit(QuantumRegister(3, 'q10'), 1), Qubit(QuantumRegister(3, 'q10'), 2), Qubit(QuantumRegister(1, 'q11'), 0)), clbits=())]\n"
     ]
    }
   ],
   "source": [
    "print(objective)\n",
    "print(objective.data)"
   ]
  },
  {
   "cell_type": "code",
   "execution_count": 19,
   "id": "b353cabf",
   "metadata": {},
   "outputs": [
    {
     "name": "stdout",
     "output_type": "stream",
     "text": [
      "[Qubit(QuantumRegister(6, 'state'), 0), Qubit(QuantumRegister(6, 'state'), 1), Qubit(QuantumRegister(6, 'state'), 2), Qubit(QuantumRegister(6, 'state'), 3), Qubit(QuantumRegister(6, 'state'), 4), Qubit(QuantumRegister(6, 'state'), 5), Qubit(QuantumRegister(3, 'sum'), 0), Qubit(QuantumRegister(3, 'sum'), 1), Qubit(QuantumRegister(3, 'sum'), 2), Qubit(QuantumRegister(2, 'carry'), 0), Qubit(QuantumRegister(2, 'carry'), 1)]\n"
     ]
    }
   ],
   "source": [
    "\n",
    "# define the registers for convenience and readability\n",
    "qr_state = QuantumRegister(uncertainty_model.num_qubits, \"state\")\n",
    "qr_sum = QuantumRegister(agg.num_sum_qubits, \"sum\")\n",
    "qr_carry = QuantumRegister(agg.num_carry_qubits, \"carry\")\n",
    "qr_obj = QuantumRegister(1, \"objective\")\n",
    "print(qr_state[:] + qr_sum[:] + qr_carry[:])"
   ]
  },
  {
   "cell_type": "code",
   "execution_count": 20,
   "id": "7354f258",
   "metadata": {},
   "outputs": [
    {
     "data": {
      "text/html": [
       "<pre style=\"word-wrap: normal;white-space: pre;background: #fff0;line-height: 1.1;font-family: &quot;Courier New&quot;,Courier,monospace\">           \n",
       "  state_0: \n",
       "           \n",
       "  state_1: \n",
       "           \n",
       "  state_2: \n",
       "           \n",
       "  state_3: \n",
       "           \n",
       "  state_4: \n",
       "           \n",
       "  state_5: \n",
       "           \n",
       "objective: \n",
       "           \n",
       "    sum_0: \n",
       "           \n",
       "    sum_1: \n",
       "           \n",
       "    sum_2: \n",
       "           \n",
       "  carry_0: \n",
       "           \n",
       "  carry_1: \n",
       "           \n",
       "  control: \n",
       "           </pre>"
      ],
      "text/plain": [
       "           \n",
       "  state_0: \n",
       "           \n",
       "  state_1: \n",
       "           \n",
       "  state_2: \n",
       "           \n",
       "  state_3: \n",
       "           \n",
       "  state_4: \n",
       "           \n",
       "  state_5: \n",
       "           \n",
       "objective: \n",
       "           \n",
       "    sum_0: \n",
       "           \n",
       "    sum_1: \n",
       "           \n",
       "    sum_2: \n",
       "           \n",
       "  carry_0: \n",
       "           \n",
       "  carry_1: \n",
       "           \n",
       "  control: \n",
       "           "
      ]
     },
     "execution_count": 20,
     "metadata": {},
     "output_type": "execute_result"
    }
   ],
   "source": [
    "\n",
    "qr_state = QuantumRegister(uncertainty_model.num_qubits, \"state\")\n",
    "qr_sum = QuantumRegister(agg.num_sum_qubits, \"sum\")\n",
    "qr_carry = QuantumRegister(agg.num_carry_qubits, \"carry\")\n",
    "qr_ctrl = QuantumRegister(agg.num_control_qubits,\"control\")\n",
    "qr_obj = QuantumRegister(1, \"objective\")\n",
    "\n",
    "# define the circuit\n",
    "state_preparation = QuantumCircuit(qr_state, qr_obj, qr_sum, qr_carry,qr_ctrl, name=\"A\")\n",
    "\n",
    "# draw the circuit\n",
    "state_preparation.draw()"
   ]
  },
  {
   "cell_type": "code",
   "execution_count": 21,
   "id": "8f5f02f5",
   "metadata": {},
   "outputs": [
    {
     "data": {
      "text/html": [
       "<pre style=\"word-wrap: normal;white-space: pre;background: #fff0;line-height: 1.1;font-family: &quot;Courier New&quot;,Courier,monospace\">           ┌───────┐\n",
       "  state_0: ┤0      ├\n",
       "           │       │\n",
       "  state_1: ┤1      ├\n",
       "           │       │\n",
       "  state_2: ┤2      ├\n",
       "           │  P(X) │\n",
       "  state_3: ┤3      ├\n",
       "           │       │\n",
       "  state_4: ┤4      ├\n",
       "           │       │\n",
       "  state_5: ┤5      ├\n",
       "           └───────┘\n",
       "objective: ─────────\n",
       "                    \n",
       "    sum_0: ─────────\n",
       "                    \n",
       "    sum_1: ─────────\n",
       "                    \n",
       "    sum_2: ─────────\n",
       "                    \n",
       "  carry_0: ─────────\n",
       "                    \n",
       "  carry_1: ─────────\n",
       "                    \n",
       "  control: ─────────\n",
       "                    </pre>"
      ],
      "text/plain": [
       "           ┌───────┐\n",
       "  state_0: ┤0      ├\n",
       "           │       │\n",
       "  state_1: ┤1      ├\n",
       "           │       │\n",
       "  state_2: ┤2      ├\n",
       "           │  P(X) │\n",
       "  state_3: ┤3      ├\n",
       "           │       │\n",
       "  state_4: ┤4      ├\n",
       "           │       │\n",
       "  state_5: ┤5      ├\n",
       "           └───────┘\n",
       "objective: ─────────\n",
       "                    \n",
       "    sum_0: ─────────\n",
       "                    \n",
       "    sum_1: ─────────\n",
       "                    \n",
       "    sum_2: ─────────\n",
       "                    \n",
       "  carry_0: ─────────\n",
       "                    \n",
       "  carry_1: ─────────\n",
       "                    \n",
       "  control: ─────────\n",
       "                    "
      ]
     },
     "execution_count": 21,
     "metadata": {},
     "output_type": "execute_result"
    }
   ],
   "source": [
    "# load the random variable\n",
    "state_preparation.append(uncertainty_model.to_gate(), qr_state)\n",
    "\n",
    "state_preparation.draw()"
   ]
  },
  {
   "cell_type": "code",
   "execution_count": 22,
   "id": "1723fcec",
   "metadata": {},
   "outputs": [
    {
     "data": {
      "text/html": [
       "<pre style=\"word-wrap: normal;white-space: pre;background: #fff0;line-height: 1.1;font-family: &quot;Courier New&quot;,Courier,monospace\">           ┌───────┐┌─────────┐\n",
       "  state_0: ┤0      ├┤0        ├\n",
       "           │       ││         │\n",
       "  state_1: ┤1      ├┤1        ├\n",
       "           │       ││         │\n",
       "  state_2: ┤2      ├┤2        ├\n",
       "           │  P(X) ││         │\n",
       "  state_3: ┤3      ├┤3        ├\n",
       "           │       ││         │\n",
       "  state_4: ┤4      ├┤4        ├\n",
       "           │       ││         │\n",
       "  state_5: ┤5      ├┤5        ├\n",
       "           └───────┘│         │\n",
       "objective: ─────────┤   adder ├\n",
       "                    │         │\n",
       "    sum_0: ─────────┤6        ├\n",
       "                    │         │\n",
       "    sum_1: ─────────┤7        ├\n",
       "                    │         │\n",
       "    sum_2: ─────────┤8        ├\n",
       "                    │         │\n",
       "  carry_0: ─────────┤9        ├\n",
       "                    │         │\n",
       "  carry_1: ─────────┤10       ├\n",
       "                    │         │\n",
       "  control: ─────────┤11       ├\n",
       "                    └─────────┘</pre>"
      ],
      "text/plain": [
       "           ┌───────┐┌─────────┐\n",
       "  state_0: ┤0      ├┤0        ├\n",
       "           │       ││         │\n",
       "  state_1: ┤1      ├┤1        ├\n",
       "           │       ││         │\n",
       "  state_2: ┤2      ├┤2        ├\n",
       "           │  P(X) ││         │\n",
       "  state_3: ┤3      ├┤3        ├\n",
       "           │       ││         │\n",
       "  state_4: ┤4      ├┤4        ├\n",
       "           │       ││         │\n",
       "  state_5: ┤5      ├┤5        ├\n",
       "           └───────┘│         │\n",
       "objective: ─────────┤   adder ├\n",
       "                    │         │\n",
       "    sum_0: ─────────┤6        ├\n",
       "                    │         │\n",
       "    sum_1: ─────────┤7        ├\n",
       "                    │         │\n",
       "    sum_2: ─────────┤8        ├\n",
       "                    │         │\n",
       "  carry_0: ─────────┤9        ├\n",
       "                    │         │\n",
       "  carry_1: ─────────┤10       ├\n",
       "                    │         │\n",
       "  control: ─────────┤11       ├\n",
       "                    └─────────┘"
      ]
     },
     "execution_count": 22,
     "metadata": {},
     "output_type": "execute_result"
    }
   ],
   "source": [
    "# aggregate\n",
    "state_preparation.append(agg.to_gate(), qr_state[:] + qr_sum[:] + qr_carry[:]+qr_ctrl[:])\n",
    "state_preparation.draw()\n"
   ]
  },
  {
   "cell_type": "code",
   "execution_count": 23,
   "id": "1045f657",
   "metadata": {},
   "outputs": [
    {
     "data": {
      "text/html": [
       "<pre style=\"word-wrap: normal;white-space: pre;background: #fff0;line-height: 1.1;font-family: &quot;Courier New&quot;,Courier,monospace\">           ┌───────┐┌─────────┐      \n",
       "  state_0: ┤0      ├┤0        ├──────\n",
       "           │       ││         │      \n",
       "  state_1: ┤1      ├┤1        ├──────\n",
       "           │       ││         │      \n",
       "  state_2: ┤2      ├┤2        ├──────\n",
       "           │  P(X) ││         │      \n",
       "  state_3: ┤3      ├┤3        ├──────\n",
       "           │       ││         │      \n",
       "  state_4: ┤4      ├┤4        ├──────\n",
       "           │       ││         │      \n",
       "  state_5: ┤5      ├┤5        ├──────\n",
       "           └───────┘│         │┌────┐\n",
       "objective: ─────────┤   adder ├┤3   ├\n",
       "                    │         ││    │\n",
       "    sum_0: ─────────┤6        ├┤0   ├\n",
       "                    │         ││  F │\n",
       "    sum_1: ─────────┤7        ├┤1   ├\n",
       "                    │         ││    │\n",
       "    sum_2: ─────────┤8        ├┤2   ├\n",
       "                    │         │└────┘\n",
       "  carry_0: ─────────┤9        ├──────\n",
       "                    │         │      \n",
       "  carry_1: ─────────┤10       ├──────\n",
       "                    │         │      \n",
       "  control: ─────────┤11       ├──────\n",
       "                    └─────────┘      </pre>"
      ],
      "text/plain": [
       "           ┌───────┐┌─────────┐      \n",
       "  state_0: ┤0      ├┤0        ├──────\n",
       "           │       ││         │      \n",
       "  state_1: ┤1      ├┤1        ├──────\n",
       "           │       ││         │      \n",
       "  state_2: ┤2      ├┤2        ├──────\n",
       "           │  P(X) ││         │      \n",
       "  state_3: ┤3      ├┤3        ├──────\n",
       "           │       ││         │      \n",
       "  state_4: ┤4      ├┤4        ├──────\n",
       "           │       ││         │      \n",
       "  state_5: ┤5      ├┤5        ├──────\n",
       "           └───────┘│         │┌────┐\n",
       "objective: ─────────┤   adder ├┤3   ├\n",
       "                    │         ││    │\n",
       "    sum_0: ─────────┤6        ├┤0   ├\n",
       "                    │         ││  F │\n",
       "    sum_1: ─────────┤7        ├┤1   ├\n",
       "                    │         ││    │\n",
       "    sum_2: ─────────┤8        ├┤2   ├\n",
       "                    │         │└────┘\n",
       "  carry_0: ─────────┤9        ├──────\n",
       "                    │         │      \n",
       "  carry_1: ─────────┤10       ├──────\n",
       "                    │         │      \n",
       "  control: ─────────┤11       ├──────\n",
       "                    └─────────┘      "
      ]
     },
     "execution_count": 23,
     "metadata": {},
     "output_type": "execute_result"
    }
   ],
   "source": [
    "# linear objective function\n",
    "state_preparation.append(objective.to_gate(), qr_sum[:] + qr_obj[:])\n",
    "\n",
    "state_preparation.draw()"
   ]
  },
  {
   "cell_type": "code",
   "execution_count": 24,
   "id": "10341113",
   "metadata": {},
   "outputs": [
    {
     "data": {
      "text/html": [
       "<pre style=\"word-wrap: normal;white-space: pre;background: #fff0;line-height: 1.1;font-family: &quot;Courier New&quot;,Courier,monospace\">           ┌───────┐┌─────────┐      ┌────────────┐\n",
       "  state_0: ┤0      ├┤0        ├──────┤0           ├\n",
       "           │       ││         │      │            │\n",
       "  state_1: ┤1      ├┤1        ├──────┤1           ├\n",
       "           │       ││         │      │            │\n",
       "  state_2: ┤2      ├┤2        ├──────┤2           ├\n",
       "           │  P(X) ││         │      │            │\n",
       "  state_3: ┤3      ├┤3        ├──────┤3           ├\n",
       "           │       ││         │      │            │\n",
       "  state_4: ┤4      ├┤4        ├──────┤4           ├\n",
       "           │       ││         │      │            │\n",
       "  state_5: ┤5      ├┤5        ├──────┤5           ├\n",
       "           └───────┘│         │┌────┐│            │\n",
       "objective: ─────────┤   adder ├┤3   ├┤   adder_dg ├\n",
       "                    │         ││    ││            │\n",
       "    sum_0: ─────────┤6        ├┤0   ├┤6           ├\n",
       "                    │         ││  F ││            │\n",
       "    sum_1: ─────────┤7        ├┤1   ├┤7           ├\n",
       "                    │         ││    ││            │\n",
       "    sum_2: ─────────┤8        ├┤2   ├┤8           ├\n",
       "                    │         │└────┘│            │\n",
       "  carry_0: ─────────┤9        ├──────┤9           ├\n",
       "                    │         │      │            │\n",
       "  carry_1: ─────────┤10       ├──────┤10          ├\n",
       "                    │         │      │            │\n",
       "  control: ─────────┤11       ├──────┤11          ├\n",
       "                    └─────────┘      └────────────┘</pre>"
      ],
      "text/plain": [
       "           ┌───────┐┌─────────┐      ┌────────────┐\n",
       "  state_0: ┤0      ├┤0        ├──────┤0           ├\n",
       "           │       ││         │      │            │\n",
       "  state_1: ┤1      ├┤1        ├──────┤1           ├\n",
       "           │       ││         │      │            │\n",
       "  state_2: ┤2      ├┤2        ├──────┤2           ├\n",
       "           │  P(X) ││         │      │            │\n",
       "  state_3: ┤3      ├┤3        ├──────┤3           ├\n",
       "           │       ││         │      │            │\n",
       "  state_4: ┤4      ├┤4        ├──────┤4           ├\n",
       "           │       ││         │      │            │\n",
       "  state_5: ┤5      ├┤5        ├──────┤5           ├\n",
       "           └───────┘│         │┌────┐│            │\n",
       "objective: ─────────┤   adder ├┤3   ├┤   adder_dg ├\n",
       "                    │         ││    ││            │\n",
       "    sum_0: ─────────┤6        ├┤0   ├┤6           ├\n",
       "                    │         ││  F ││            │\n",
       "    sum_1: ─────────┤7        ├┤1   ├┤7           ├\n",
       "                    │         ││    ││            │\n",
       "    sum_2: ─────────┤8        ├┤2   ├┤8           ├\n",
       "                    │         │└────┘│            │\n",
       "  carry_0: ─────────┤9        ├──────┤9           ├\n",
       "                    │         │      │            │\n",
       "  carry_1: ─────────┤10       ├──────┤10          ├\n",
       "                    │         │      │            │\n",
       "  control: ─────────┤11       ├──────┤11          ├\n",
       "                    └─────────┘      └────────────┘"
      ]
     },
     "execution_count": 24,
     "metadata": {},
     "output_type": "execute_result"
    }
   ],
   "source": [
    "# uncompute aggregation\n",
    "\n",
    "state_preparation.append(agg.to_gate().inverse(), qr_state[:] + qr_sum[:] + qr_carry[:]+qr_ctrl[:])\n",
    "state_preparation.draw()"
   ]
  },
  {
   "cell_type": "markdown",
   "id": "4d9562a6",
   "metadata": {},
   "source": [
    "For num of assets = 5 , I get below error:\n",
    "---------------------------------------------------------------------------\n",
    "\n",
    "CircuitError                              Traceback (most recent call last)\n",
    "Cell In[62], line 13\n",
    "     10 state_preparation.append(uncertainty_model.to_gate(), qr_state)\n",
    "     12 # aggregate\n",
    "---> 13 state_preparation.append(agg.to_gate(),[qr_state[:] + qr_sum[:] + qr_carry[:]])\n",
    "     15 # linear objective function\n",
    "     16 state_preparation.append(objective.to_gate(), qr_sum[:] + qr_obj[:])\n",
    "\n",
    "<h3>File ~/opt/anaconda3/envs/QCQML/lib/python3.9/site-packages/qiskit/circuit/quantumcircuit.py:1264, in QuantumCircuit.append(self, instruction, qargs, cargs)\n",
    "   1262 instructions = InstructionSet(resource_requester=requester)\n",
    "   1263 if isinstance(operation, Instruction):\n",
    "-> 1264     for qarg, carg in operation.broadcast_arguments(expanded_qargs, expanded_cargs):\n",
    "   1265         self._check_dups(qarg)\n",
    "   1266         instruction = CircuitInstruction(operation, qarg, carg)\n",
    "\n",
    "File ~/opt/anaconda3/envs/QCQML/lib/python3.9/site-packages/qiskit/circuit/gate.py:202, in Gate.broadcast_arguments(self, qargs, cargs)\n",
    "    165 \"\"\"Validation and handling of the arguments and its relationship.\n",
    "    166 \n",
    "    167 For example, ``cx([q[0],q[1]], q[2])`` means ``cx(q[0], q[2]); cx(q[1], q[2])``. This\n",
    "   (...)\n",
    "    199         arguments does not match the gate expectation.\n",
    "    200 \"\"\"\n",
    "    201 if len(qargs) != self.num_qubits or cargs:\n",
    "--> 202     raise CircuitError(\n",
    "    203         f\"The amount of qubit({len(qargs)})/clbit({len(cargs)}) arguments does\"\n",
    "    204         f\" not match the gate expectation ({self.num_qubits}).\"\n",
    "    205     )\n",
    "    207 if any(not qarg for qarg in qargs):\n",
    "    208     raise CircuitError(\"One or more of the arguments are empty\")\n",
    "\n",
    "<h3>CircuitError: 'The amount of qubit(1)/clbit(0) arguments does not match the gate expectation (15).'\n",
    "    \n",
    "<h2> The above error occurs when num of assets =3 and no of qbits to represent Z =3 , in absence of control_bits"
   ]
  },
  {
   "cell_type": "code",
   "execution_count": 25,
   "id": "10e0f8a8",
   "metadata": {},
   "outputs": [
    {
     "name": "stdout",
     "output_type": "stream",
     "text": [
      "{'0000000101000': 0.0009765625, '0000000111101': 0.0009765625, '0000001110100': 0.0029296875, '0000000100011': 0.0009765625, '0000001000000': 0.001953125, '0000000011110': 0.0029296875, '0000001100000': 0.00390625, '0000000110101': 0.0068359375, '0000001111010': 0.00390625, '0000000110100': 0.001953125, '0000001001011': 0.0029296875, '0000001100101': 0.0048828125, '0000000011100': 0.0009765625, '0000001111100': 0.0029296875, '0000001010101': 0.009765625, '0000000001101': 0.00390625, '0000001101101': 0.0048828125, '0000000010101': 0.009765625, '0000000001010': 0.0166015625, '0000001011110': 0.00390625, '0000001010110': 0.0087890625, '0000000000110': 0.0107421875, '0000001011100': 0.0009765625, '0000000101101': 0.001953125, '0000001001000': 0.0009765625, '0000000110010': 0.0087890625, '0000001110001': 0.029296875, '0000000011000': 0.0029296875, '0000000010100': 0.001953125, '0000001000110': 0.0029296875, '0000001011001': 0.0087890625, '0000001111001': 0.0087890625, '0000001101100': 0.001953125, '0000001010001': 0.0400390625, '0000000100001': 0.0244140625, '0000000111001': 0.0087890625, '0000000011010': 0.0107421875, '0000001100110': 0.0009765625, '0000001011101': 0.005859375, '0000001000101': 0.005859375, '0000001110010': 0.0087890625, '0000001110000': 0.00390625, '0000001001010': 0.015625, '0000001101010': 0.0009765625, '0000001000001': 0.021484375, '0000000010110': 0.009765625, '0000000010111': 0.0009765625, '0000000010001': 0.0595703125, '0000001110101': 0.005859375, '0000001010111': 0.0009765625, '0000000011101': 0.0048828125, '0000000000101': 0.01171875, '0000001000011': 0.009765625, '0000001011011': 0.001953125, '0000000110001': 0.0283203125, '0000001111101': 0.00390625, '0000000011001': 0.015625, '0000000100110': 0.0009765625, '0000000010000': 0.0048828125, '0000001001101': 0.0009765625, '0000001100001': 0.0185546875, '0000000010011': 0.0234375, '0000001001001': 0.0068359375, '0000000101100': 0.001953125, '0000001100010': 0.005859375, '0000001011010': 0.0166015625, '0000000010010': 0.0810546875, '0000000100010': 0.0146484375, '0000000001110': 0.001953125, '0000000111100': 0.001953125, '0000000111010': 0.001953125, '0000000001000': 0.0009765625, '0000001010000': 0.001953125, '0000000110000': 0.009765625, '0000001101001': 0.0068359375, '0000001101000': 0.00390625, '0000000100101': 0.0009765625, '0000000000001': 0.0283203125, '0000000111000': 0.0029296875, '0000001110110': 0.0009765625, '0000000100000': 0.0029296875, '0000001010010': 0.072265625, '0000000000010': 0.1064453125, '0000000101010': 0.001953125, '0000001111000': 0.0048828125, '0000000001011': 0.001953125, '0000001010011': 0.0048828125, '0000000001001': 0.0107421875, '0000001000010': 0.041015625, '0000001001110': 0.0009765625, '0000000000011': 0.0234375, '0000000101001': 0.0126953125}\n"
     ]
    }
   ],
   "source": [
    "\"\"\"\n",
    "validate the quantum circuit representing the objective function by just simulating it directly and analyzing the probability of the objective qubit being in the \n",
    " state, i.e., the value QAE will eventually approximate.\n",
    "\"\"\"\n",
    "state_preparation_measure = state_preparation.measure_all(inplace=False)\n",
    "sampler = Sampler()\n",
    "job = sampler.run(state_preparation_measure)\n",
    "binary_probabilities = job.result().quasi_dists[0].binary_probabilities()\n",
    "print(binary_probabilities)"
   ]
  },
  {
   "cell_type": "code",
   "execution_count": 26,
   "id": "626b6172",
   "metadata": {},
   "outputs": [
    {
     "name": "stdout",
     "output_type": "stream",
     "text": [
      "Exact Expected Loss:   2.0752\n",
      "Exact Operator Value:  0.4170\n",
      "Mapped Operator value: 1.7317\n"
     ]
    }
   ],
   "source": [
    "# evaluate the result\n",
    "value = 0\n",
    "for i, prob in binary_probabilities.items():\n",
    "    if prob > 1e-6 and i[-(len(qr_state) + 1) :][0] == \"1\":\n",
    "        value += prob\n",
    "\n",
    "print(\"Exact Expected Loss:   %.4f\" % expected_loss)\n",
    "print(\"Exact Operator Value:  %.4f\" % value)\n",
    "print(\"Mapped Operator value: %.4f\" % objective.post_processing(value))"
   ]
  },
  {
   "cell_type": "code",
   "execution_count": 27,
   "id": "87281d21",
   "metadata": {},
   "outputs": [
    {
     "name": "stdout",
     "output_type": "stream",
     "text": [
      "Exact value:    \t2.0752\n",
      "Estimated value:\t2.0004\n",
      "Confidence interval: \t[1.7712, 2.2295]\n"
     ]
    }
   ],
   "source": [
    "# set target precision and confidence level\n",
    "epsilon_target = 0.03\n",
    "alpha = 0.05\n",
    "\n",
    "problem = EstimationProblem(\n",
    "    state_preparation=state_preparation,\n",
    "    objective_qubits=[len(qr_state)],\n",
    "    post_processing=objective.post_processing,\n",
    ")\n",
    "# construct amplitude estimation\n",
    "ae = IterativeAmplitudeEstimation(\n",
    "    epsilon_target=epsilon_target, alpha=alpha, sampler=Sampler(run_options={\"shots\": 100})\n",
    ")\n",
    "result = ae.estimate(problem)\n",
    "\n",
    "# print results\n",
    "conf_int = np.array(result.confidence_interval_processed)\n",
    "print(\"Exact value:    \\t%.4f\" % expected_loss)\n",
    "print(\"Estimated value:\\t%.4f\" % result.estimation_processed)\n",
    "print(\"Confidence interval: \\t[%.4f, %.4f]\" % tuple(conf_int))"
   ]
  },
  {
   "cell_type": "code",
   "execution_count": 28,
   "id": "7c949bea",
   "metadata": {},
   "outputs": [
    {
     "name": "stdout",
     "output_type": "stream",
     "text": [
      "Exact value:    \t2.0752\n",
      "Estimated value:\t2.0579\n"
     ]
    }
   ],
   "source": [
    "\"\"\"This class implements the quantum amplitude estimation (QAE) algorithm without phase estimation.\n",
    "In comparison to the original QAE algorithm , this implementation relies solely on different \n",
    "powers of the Grover operator and does not require additional evaluation qubits.\"\"\"\n",
    "\n",
    "problem = EstimationProblem(\n",
    "    state_preparation=state_preparation,\n",
    "    objective_qubits=[len(qr_state)],\n",
    "    post_processing=objective.post_processing,\n",
    ")\n",
    "# construct MaximumLikelihoodAmplitudeEstimation\n",
    "max_lhood_ae = MaximumLikelihoodAmplitudeEstimation(\n",
    "    evaluation_schedule=3,  # log2 of the maximal Grover power\n",
    "    sampler=sampler\n",
    ")\n",
    "max_lhood_result = max_lhood_ae.estimate(problem)\n",
    "\n",
    "# print results\n",
    "conf_int = np.array(max_lhood_result.confidence_interval_processed)\n",
    "print(\"Exact value:    \\t%.4f\" % expected_loss)\n",
    "print(\"Estimated value:\\t%.4f\" % max_lhood_result.estimation_processed)"
   ]
  },
  {
   "cell_type": "code",
   "execution_count": 29,
   "id": "9925ecd0",
   "metadata": {},
   "outputs": [
    {
     "name": "stdout",
     "output_type": "stream",
     "text": [
      "Exact value:    \t2.0752\n",
      "Estimated value:\t2.0261\n"
     ]
    }
   ],
   "source": [
    "\"\"\"\n",
    "The Faster Amplitude Estimation (FAE)  algorithm is a variant of Quantum Amplitude Estimation (QAE), \n",
    "where the Quantum Phase Estimation (QPE) by an iterative Grover search\n",
    "\"\"\"\n",
    "\n",
    "# construct FastAmplitudeEstimation\n",
    "fast_ae = FasterAmplitudeEstimation(\n",
    "    delta=0.01,  # target accuracy\n",
    "    maxiter=3,  # determines the maximal power of the Grover operator\n",
    "    sampler=sampler,\n",
    ")\n",
    "\n",
    "fast_ae_result = fast_ae.estimate(problem)\n",
    "# print results\n",
    "conf_int = np.array(fast_ae_result.confidence_interval_processed)\n",
    "print(\"Exact value:    \\t%.4f\" % expected_loss)\n",
    "print(\"Estimated value:\\t%.4f\" % fast_ae_result.estimation_processed)"
   ]
  },
  {
   "cell_type": "code",
   "execution_count": 30,
   "id": "1a390da0",
   "metadata": {},
   "outputs": [
    {
     "data": {
      "text/html": [
       "<pre style=\"word-wrap: normal;white-space: pre;background: #fff0;line-height: 1.1;font-family: &quot;Courier New&quot;,Courier,monospace\">         ┌──────┐\n",
       "state_0: ┤0     ├\n",
       "         │      │\n",
       "state_1: ┤1     ├\n",
       "         │      │\n",
       "state_2: ┤2     ├\n",
       "         │  cmp │\n",
       "compare: ┤3     ├\n",
       "         │      │\n",
       "   a0_0: ┤4     ├\n",
       "         │      │\n",
       "   a0_1: ┤5     ├\n",
       "         └──────┘</pre>"
      ],
      "text/plain": [
       "         ┌──────┐\n",
       "state_0: ┤0     ├\n",
       "         │      │\n",
       "state_1: ┤1     ├\n",
       "         │      │\n",
       "state_2: ┤2     ├\n",
       "         │  cmp │\n",
       "compare: ┤3     ├\n",
       "         │      │\n",
       "   a0_0: ┤4     ├\n",
       "         │      │\n",
       "   a0_1: ┤5     ├\n",
       "         └──────┘"
      ]
     },
     "execution_count": 30,
     "metadata": {},
     "output_type": "execute_result"
    }
   ],
   "source": [
    "# set x value to estimate the CDF\n",
    "x_eval = 2\n",
    "\n",
    "comparator = IntegerComparator(agg.num_sum_qubits, x_eval + 1, geq=False)\n",
    "comparator.draw()"
   ]
  },
  {
   "cell_type": "code",
   "execution_count": 31,
   "id": "5c69e80d",
   "metadata": {},
   "outputs": [],
   "source": [
    "def get_cdf_circuit(x_eval):\n",
    "    # define the registers for convenience and readability\n",
    "    qr_state = QuantumRegister(uncertainty_model.num_qubits, \"state\")\n",
    "    qr_sum = QuantumRegister(agg.num_sum_qubits, \"sum\")\n",
    "    qr_carry = QuantumRegister(agg.num_carry_qubits, \"carry\")\n",
    "    qr_ctrl = QuantumRegister(agg.num_control_qubits, \"control\")\n",
    "    qr_obj = QuantumRegister(1, \"objective\")\n",
    "    qr_compare = QuantumRegister(1, \"compare\")\n",
    "\n",
    "    # define the circuit\n",
    "    state_preparation = QuantumCircuit(qr_state, qr_obj, qr_sum, qr_carry,qr_ctrl, name=\"A\")\n",
    "\n",
    "    # load the random variable\n",
    "    state_preparation.append(uncertainty_model, qr_state)\n",
    "\n",
    "    # aggregate\n",
    "    state_preparation.append(agg, qr_state[:] + qr_sum[:] + qr_carry[:] + qr_ctrl[:])\n",
    "\n",
    "    # comparator objective function\n",
    "    comparator = IntegerComparator(agg.num_sum_qubits, x_eval + 1, geq=False)\n",
    "    state_preparation.append(comparator, qr_sum[:] + qr_obj[:] + qr_carry[:])\n",
    "\n",
    "    # uncompute aggregation\n",
    "    state_preparation.append(agg.inverse(), qr_state[:] + qr_sum[:] + qr_carry[:]+qr_ctrl[:])\n",
    "\n",
    "    return state_preparation\n",
    "\n",
    "\n",
    "state_preparation = get_cdf_circuit(x_eval)"
   ]
  },
  {
   "cell_type": "code",
   "execution_count": 32,
   "id": "d31d1c6a",
   "metadata": {},
   "outputs": [
    {
     "data": {
      "text/html": [
       "<pre style=\"word-wrap: normal;white-space: pre;background: #fff0;line-height: 1.1;font-family: &quot;Courier New&quot;,Courier,monospace\">           ┌───────┐┌─────────┐        ┌────────────┐\n",
       "  state_0: ┤0      ├┤0        ├────────┤0           ├\n",
       "           │       ││         │        │            │\n",
       "  state_1: ┤1      ├┤1        ├────────┤1           ├\n",
       "           │       ││         │        │            │\n",
       "  state_2: ┤2      ├┤2        ├────────┤2           ├\n",
       "           │  P(X) ││         │        │            │\n",
       "  state_3: ┤3      ├┤3        ├────────┤3           ├\n",
       "           │       ││         │        │            │\n",
       "  state_4: ┤4      ├┤4        ├────────┤4           ├\n",
       "           │       ││         │        │            │\n",
       "  state_5: ┤5      ├┤5        ├────────┤5           ├\n",
       "           └───────┘│         │┌──────┐│            │\n",
       "objective: ─────────┤   adder ├┤3     ├┤   adder_dg ├\n",
       "                    │         ││      ││            │\n",
       "    sum_0: ─────────┤6        ├┤0     ├┤6           ├\n",
       "                    │         ││      ││            │\n",
       "    sum_1: ─────────┤7        ├┤1     ├┤7           ├\n",
       "                    │         ││  cmp ││            │\n",
       "    sum_2: ─────────┤8        ├┤2     ├┤8           ├\n",
       "                    │         ││      ││            │\n",
       "  carry_0: ─────────┤9        ├┤4     ├┤9           ├\n",
       "                    │         ││      ││            │\n",
       "  carry_1: ─────────┤10       ├┤5     ├┤10          ├\n",
       "                    │         │└──────┘│            │\n",
       "  control: ─────────┤11       ├────────┤11          ├\n",
       "                    └─────────┘        └────────────┘</pre>"
      ],
      "text/plain": [
       "           ┌───────┐┌─────────┐        ┌────────────┐\n",
       "  state_0: ┤0      ├┤0        ├────────┤0           ├\n",
       "           │       ││         │        │            │\n",
       "  state_1: ┤1      ├┤1        ├────────┤1           ├\n",
       "           │       ││         │        │            │\n",
       "  state_2: ┤2      ├┤2        ├────────┤2           ├\n",
       "           │  P(X) ││         │        │            │\n",
       "  state_3: ┤3      ├┤3        ├────────┤3           ├\n",
       "           │       ││         │        │            │\n",
       "  state_4: ┤4      ├┤4        ├────────┤4           ├\n",
       "           │       ││         │        │            │\n",
       "  state_5: ┤5      ├┤5        ├────────┤5           ├\n",
       "           └───────┘│         │┌──────┐│            │\n",
       "objective: ─────────┤   adder ├┤3     ├┤   adder_dg ├\n",
       "                    │         ││      ││            │\n",
       "    sum_0: ─────────┤6        ├┤0     ├┤6           ├\n",
       "                    │         ││      ││            │\n",
       "    sum_1: ─────────┤7        ├┤1     ├┤7           ├\n",
       "                    │         ││  cmp ││            │\n",
       "    sum_2: ─────────┤8        ├┤2     ├┤8           ├\n",
       "                    │         ││      ││            │\n",
       "  carry_0: ─────────┤9        ├┤4     ├┤9           ├\n",
       "                    │         ││      ││            │\n",
       "  carry_1: ─────────┤10       ├┤5     ├┤10          ├\n",
       "                    │         │└──────┘│            │\n",
       "  control: ─────────┤11       ├────────┤11          ├\n",
       "                    └─────────┘        └────────────┘"
      ]
     },
     "execution_count": 32,
     "metadata": {},
     "output_type": "execute_result"
    }
   ],
   "source": [
    "state_preparation.draw()"
   ]
  },
  {
   "cell_type": "code",
   "execution_count": 33,
   "id": "ecbd2fcc",
   "metadata": {},
   "outputs": [],
   "source": [
    "state_preparation_measure = state_preparation.measure_all(inplace=False)\n",
    "sampler = Sampler()\n",
    "job = sampler.run(state_preparation_measure)\n",
    "binary_probabilities = job.result().quasi_dists[0].binary_probabilities()"
   ]
  },
  {
   "cell_type": "code",
   "execution_count": 34,
   "id": "42b0b3b9",
   "metadata": {},
   "outputs": [
    {
     "name": "stdout",
     "output_type": "stream",
     "text": [
      "Operator CDF(2) = 0.6738\n",
      "Exact    CDF(2) = 0.6523\n"
     ]
    }
   ],
   "source": [
    "# evaluate the result\n",
    "var_prob = 0\n",
    "for i, prob in binary_probabilities.items():\n",
    "    if prob > 1e-6 and i[-(len(qr_state) + 1) :][0] == \"1\":\n",
    "        var_prob += prob\n",
    "\n",
    "print(\"Operator CDF(%s)\" % x_eval + \" = %.4f\" % var_prob)\n",
    "print(\"Exact    CDF(%s)\" % x_eval + \" = %.4f\" % cdf[x_eval])"
   ]
  },
  {
   "cell_type": "code",
   "execution_count": 35,
   "id": "7bca93df",
   "metadata": {},
   "outputs": [
    {
     "name": "stdout",
     "output_type": "stream",
     "text": [
      "Exact value:    \t0.6523\n",
      "Estimated value:\t0.6558\n",
      "Confidence interval: \t[0.6531, 0.6585]\n"
     ]
    }
   ],
   "source": [
    "# set target precision and confidence level\n",
    "epsilon = 0.01\n",
    "alpha = 0.05\n",
    "\n",
    "problem = EstimationProblem(state_preparation=state_preparation, objective_qubits=[len(qr_state)])\n",
    "# construct amplitude estimation\n",
    "ae_cdf = IterativeAmplitudeEstimation(\n",
    "    epsilon_target=epsilon, alpha=alpha, sampler=Sampler(run_options={\"shots\": 100})\n",
    ")\n",
    "result_cdf = ae_cdf.estimate(problem)\n",
    "\n",
    "# print results\n",
    "conf_int = np.array(result_cdf.confidence_interval)\n",
    "print(\"Exact value:    \\t%.4f\" % cdf[x_eval])\n",
    "print(\"Estimated value:\\t%.4f\" % result_cdf.estimation)\n",
    "print(\"Confidence interval: \\t[%.4f, %.4f]\" % tuple(conf_int))"
   ]
  },
  {
   "cell_type": "code",
   "execution_count": 36,
   "id": "635c23aa",
   "metadata": {},
   "outputs": [],
   "source": [
    "def run_iter_ae_for_cdf(x_eval, epsilon=0.01, alpha=0.05, simulator=\"aer_simulator\"):\n",
    "\n",
    "    # construct amplitude estimation\n",
    "    state_preparation = get_cdf_circuit(x_eval)\n",
    "    problem = EstimationProblem(\n",
    "        state_preparation=state_preparation, objective_qubits=[len(qr_state)]\n",
    "    )\n",
    "    iter_ae_var = IterativeAmplitudeEstimation(\n",
    "        epsilon_target=epsilon, alpha=alpha, sampler=Sampler(run_options={\"shots\": 100})\n",
    "    )\n",
    "    result_var = iter_ae_var.estimate(problem)\n",
    "\n",
    "    return result_var.estimation"
   ]
  },
  {
   "cell_type": "code",
   "execution_count": 57,
   "id": "4cf263d7",
   "metadata": {},
   "outputs": [],
   "source": [
    "def run_mlh_ae_for_cdf(x_eval, evaluation_schedule=3, simulator=\"aer_simulator\"):\n",
    "\n",
    "    # construct amplitude estimation\n",
    "    state_preparation = get_cdf_circuit(x_eval)\n",
    "    problem = EstimationProblem(\n",
    "        state_preparation=state_preparation, objective_qubits=[len(qr_state)]\n",
    "    )\n",
    "    mlh_ae_var = MaximumLikelihoodAmplitudeEstimation(\n",
    "        evaluation_schedule=evaluation_schedule,  # log2 of the maximal Grover power\n",
    "    sampler=Sampler(run_options={\"shots\": 100}))  \n",
    "    result_var = mlh_ae_var.estimate(problem)\n",
    "\n",
    "    return result_var.estimation"
   ]
  },
  {
   "cell_type": "code",
   "execution_count": 62,
   "id": "9b793256",
   "metadata": {},
   "outputs": [],
   "source": [
    "def run_faster_ae_for_cdf(x_eval, delta=0.01, maxiter=3, simulator=\"aer_simulator\"):\n",
    "\n",
    "    # construct amplitude estimation\n",
    "    state_preparation = get_cdf_circuit(x_eval)\n",
    "    problem = EstimationProblem(\n",
    "        state_preparation=state_preparation, objective_qubits=[len(qr_state)]\n",
    "    )\n",
    "    fast_ae_var = FasterAmplitudeEstimation(\n",
    "        delta=delta,  # target accuracy\n",
    "    maxiter=maxiter,  # determines the maximal power of the Grover operator\n",
    "    sampler=Sampler(run_options={\"shots\": 100}),)\n",
    "    result_var = fast_ae_var.estimate(problem)\n",
    "\n",
    "    return result_var.estimation"
   ]
  },
  {
   "cell_type": "code",
   "execution_count": 63,
   "id": "1ad8c402",
   "metadata": {},
   "outputs": [],
   "source": [
    "def bisection_search(\n",
    "    objective, target_value, low_level, high_level, low_value=None, high_value=None\n",
    "):\n",
    "    \"\"\"\n",
    "    Determines the smallest level such that the objective value is still larger than the target\n",
    "    :param objective: objective function\n",
    "    :param target: target value\n",
    "    :param low_level: lowest level to be considered\n",
    "    :param high_level: highest level to be considered\n",
    "    :param low_value: value of lowest level (will be evaluated if set to None)\n",
    "    :param high_value: value of highest level (will be evaluated if set to None)\n",
    "    :return: dictionary with level, value, num_eval\n",
    "    \"\"\"\n",
    "\n",
    "    # check whether low and high values are given and evaluated them otherwise\n",
    "    print(\"--------------------------------------------------------------------\")\n",
    "    print(\"start bisection search for target value %.3f\" % target_value)\n",
    "    print(\"--------------------------------------------------------------------\")\n",
    "    num_eval = 0\n",
    "    if low_value is None:\n",
    "        low_value = objective(low_level)\n",
    "        num_eval += 1\n",
    "    if high_value is None:\n",
    "        high_value = objective(high_level)\n",
    "        num_eval += 1\n",
    "\n",
    "    # check if low_value already satisfies the condition\n",
    "    if low_value > target_value:\n",
    "        return {\n",
    "            \"level\": low_level,\n",
    "            \"value\": low_value,\n",
    "            \"num_eval\": num_eval,\n",
    "            \"comment\": \"returned low value\",\n",
    "        }\n",
    "    elif low_value == target_value:\n",
    "        return {\"level\": low_level, \"value\": low_value, \"num_eval\": num_eval, \"comment\": \"success\"}\n",
    "\n",
    "    # check if high_value is above target\n",
    "    if high_value < target_value:\n",
    "        return {\n",
    "            \"level\": high_level,\n",
    "            \"value\": high_value,\n",
    "            \"num_eval\": num_eval,\n",
    "            \"comment\": \"returned low value\",\n",
    "        }\n",
    "    elif high_value == target_value:\n",
    "        return {\n",
    "            \"level\": high_level,\n",
    "            \"value\": high_value,\n",
    "            \"num_eval\": num_eval,\n",
    "            \"comment\": \"success\",\n",
    "        }\n",
    "\n",
    "    # perform bisection search until\n",
    "    print(\"low_level    low_value    level    value    high_level    high_value\")\n",
    "    print(\"--------------------------------------------------------------------\")\n",
    "    while high_level - low_level > 1:\n",
    "\n",
    "        level = int(np.round((high_level + low_level) / 2.0))\n",
    "        num_eval += 1\n",
    "        value = objective(level)\n",
    "\n",
    "        print(\n",
    "            \"%2d           %.3f        %2d       %.3f    %2d            %.3f\"\n",
    "            % (low_level, low_value, level, value, high_level, high_value)\n",
    "        )\n",
    "\n",
    "        if value >= target_value:\n",
    "            high_level = level\n",
    "            high_value = value\n",
    "        else:\n",
    "            low_level = level\n",
    "            low_value = value\n",
    "\n",
    "    # return high value after bisection search\n",
    "    print(\"--------------------------------------------------------------------\")\n",
    "    print(\"finished bisection search\")\n",
    "    print(\"--------------------------------------------------------------------\")\n",
    "    return {\"level\": high_level, \"value\": high_value, \"num_eval\": num_eval, \"comment\": \"success\"}"
   ]
  },
  {
   "cell_type": "code",
   "execution_count": 41,
   "id": "0c040240",
   "metadata": {},
   "outputs": [
    {
     "name": "stdout",
     "output_type": "stream",
     "text": [
      "--------------------------------------------------------------------\n",
      "start bisection search for target value 0.950\n",
      "--------------------------------------------------------------------\n",
      "low_level    low_value    level    value    high_level    high_value\n",
      "--------------------------------------------------------------------\n",
      "-1           0.000         2       0.655     6            1.000\n",
      " 2           0.655         4       0.933     6            1.000\n",
      " 4           0.933         5       0.988     6            1.000\n",
      "--------------------------------------------------------------------\n",
      "finished bisection search\n",
      "--------------------------------------------------------------------\n"
     ]
    }
   ],
   "source": [
    "# run bisection search to determine VaR\n",
    "objective = lambda x: run_iter_ae_for_cdf(x)\n",
    "bisection_result = bisection_search(\n",
    "    objective, 1 - alpha, min(losses) - 1, max(losses), low_value=0, high_value=1\n",
    ")\n",
    "var = bisection_result[\"level\"]"
   ]
  },
  {
   "cell_type": "code",
   "execution_count": 42,
   "id": "4849930b",
   "metadata": {},
   "outputs": [
    {
     "name": "stdout",
     "output_type": "stream",
     "text": [
      "Estimated Value at Risk:  5\n",
      "Exact Value at Risk:      5\n",
      "Estimated Probability:    0.988\n",
      "Exact Probability:        0.988\n"
     ]
    }
   ],
   "source": [
    "print(\"Estimated Value at Risk: %2d\" % var)\n",
    "print(\"Exact Value at Risk:     %2d\" % exact_var)\n",
    "print(\"Estimated Probability:    %.3f\" % bisection_result[\"value\"])\n",
    "print(\"Exact Probability:        %.3f\" % cdf[exact_var])"
   ]
  },
  {
   "cell_type": "code",
   "execution_count": 59,
   "id": "932e9c86",
   "metadata": {},
   "outputs": [
    {
     "name": "stdout",
     "output_type": "stream",
     "text": [
      "--------------------------------------------------------------------\n",
      "start bisection search for target value 0.950\n",
      "--------------------------------------------------------------------\n",
      "low_level    low_value    level    value    high_level    high_value\n",
      "--------------------------------------------------------------------\n",
      "-1           0.000         2       0.651     6            1.000\n",
      " 2           0.651         4       0.931     6            1.000\n",
      " 4           0.931         5       0.988     6            1.000\n",
      "--------------------------------------------------------------------\n",
      "finished bisection search\n",
      "--------------------------------------------------------------------\n"
     ]
    }
   ],
   "source": [
    "# run bisection search to determine VaR  using MLH\n",
    "objective = lambda x: run_mlh_ae_for_cdf(x)\n",
    "bisection_result = bisection_search(\n",
    "    objective, 1 - alpha, min(losses) - 1, max(losses), low_value=0, high_value=1\n",
    ")\n",
    "var = bisection_result[\"level\"]"
   ]
  },
  {
   "cell_type": "code",
   "execution_count": 60,
   "id": "98e744c3",
   "metadata": {},
   "outputs": [
    {
     "name": "stdout",
     "output_type": "stream",
     "text": [
      "Estimated Value at Risk:  5\n",
      "Exact Value at Risk:      5\n",
      "Estimated Probability:    0.988\n",
      "Exact Probability:        0.988\n"
     ]
    }
   ],
   "source": [
    "print(\"Estimated Value at Risk: %2d\" % var)\n",
    "print(\"Exact Value at Risk:     %2d\" % exact_var)\n",
    "print(\"Estimated Probability:    %.3f\" % bisection_result[\"value\"])\n",
    "print(\"Exact Probability:        %.3f\" % cdf[exact_var])"
   ]
  },
  {
   "cell_type": "code",
   "execution_count": 64,
   "id": "a91cba39",
   "metadata": {},
   "outputs": [
    {
     "name": "stdout",
     "output_type": "stream",
     "text": [
      "--------------------------------------------------------------------\n",
      "start bisection search for target value 0.950\n",
      "--------------------------------------------------------------------\n",
      "low_level    low_value    level    value    high_level    high_value\n",
      "--------------------------------------------------------------------\n",
      "-1           0.000         2       0.656     6            1.000\n",
      " 2           0.656         4       0.931     6            1.000\n",
      " 4           0.931         5       0.985     6            1.000\n",
      "--------------------------------------------------------------------\n",
      "finished bisection search\n",
      "--------------------------------------------------------------------\n"
     ]
    }
   ],
   "source": [
    "# run bisection search to determine VaR  using MLH\n",
    "objective = lambda x: run_faster_ae_for_cdf(x)\n",
    "bisection_result = bisection_search(\n",
    "    objective, 1 - alpha, min(losses) - 1, max(losses), low_value=0, high_value=1\n",
    ")\n",
    "var = bisection_result[\"level\"]"
   ]
  },
  {
   "cell_type": "code",
   "execution_count": 65,
   "id": "2ea46e0e",
   "metadata": {},
   "outputs": [
    {
     "name": "stdout",
     "output_type": "stream",
     "text": [
      "Estimated Value at Risk:  5\n",
      "Exact Value at Risk:      5\n",
      "Estimated Probability:    0.985\n",
      "Exact Probability:        0.988\n"
     ]
    }
   ],
   "source": [
    "print(\"Estimated Value at Risk: %2d\" % var)\n",
    "print(\"Exact Value at Risk:     %2d\" % exact_var)\n",
    "print(\"Estimated Probability:    %.3f\" % bisection_result[\"value\"])\n",
    "print(\"Exact Probability:        %.3f\" % cdf[exact_var])"
   ]
  },
  {
   "cell_type": "code",
   "execution_count": 66,
   "id": "24623e0d",
   "metadata": {},
   "outputs": [
    {
     "data": {
      "text/html": [
       "<pre style=\"word-wrap: normal;white-space: pre;background: #fff0;line-height: 1.1;font-family: &quot;Courier New&quot;,Courier,monospace\">        ┌────┐\n",
       "q554_0: ┤0   ├\n",
       "        │    │\n",
       "q554_1: ┤1   ├\n",
       "        │    │\n",
       "q554_2: ┤2   ├\n",
       "        │    │\n",
       "  q555: ┤3 F ├\n",
       "        │    │\n",
       " a16_0: ┤4   ├\n",
       "        │    │\n",
       " a16_1: ┤5   ├\n",
       "        │    │\n",
       " a16_2: ┤6   ├\n",
       "        └────┘</pre>"
      ],
      "text/plain": [
       "        ┌────┐\n",
       "q554_0: ┤0   ├\n",
       "        │    │\n",
       "q554_1: ┤1   ├\n",
       "        │    │\n",
       "q554_2: ┤2   ├\n",
       "        │    │\n",
       "  q555: ┤3 F ├\n",
       "        │    │\n",
       " a16_0: ┤4   ├\n",
       "        │    │\n",
       " a16_1: ┤5   ├\n",
       "        │    │\n",
       " a16_2: ┤6   ├\n",
       "        └────┘"
      ]
     },
     "execution_count": 66,
     "metadata": {},
     "output_type": "execute_result"
    }
   ],
   "source": [
    "# define linear objective\n",
    "# compute the CVaR, i.e. the expected value of the loss conditional to it being larger than or equal to the VaR\n",
    "breakpoints = [0, var]\n",
    "slopes = [0, 1]\n",
    "offsets = [0, 0]  # subtract VaR and add it later to the estimate\n",
    "f_min = 0\n",
    "f_max = 3 - var\n",
    "c_approx = 0.25\n",
    "\n",
    "cvar_objective = LinearAmplitudeFunction(\n",
    "    agg.num_sum_qubits,\n",
    "    slopes,\n",
    "    offsets,\n",
    "    domain=(0, 2**agg.num_sum_qubits - 1),\n",
    "    image=(f_min, f_max),\n",
    "    rescaling_factor=c_approx,\n",
    "    breakpoints=breakpoints,\n",
    ")\n",
    "\n",
    "cvar_objective.draw()"
   ]
  },
  {
   "cell_type": "code",
   "execution_count": 67,
   "id": "a25766ee",
   "metadata": {},
   "outputs": [
    {
     "data": {
      "text/html": [
       "<pre style=\"word-wrap: normal;white-space: pre;background: #fff0;line-height: 1.1;font-family: &quot;Courier New&quot;,Courier,monospace\">           ┌───────┐┌─────────┐      ┌────────────┐\n",
       "  state_0: ┤0      ├┤0        ├──────┤0           ├\n",
       "           │       ││         │      │            │\n",
       "  state_1: ┤1      ├┤1        ├──────┤1           ├\n",
       "           │       ││         │      │            │\n",
       "  state_2: ┤2      ├┤2        ├──────┤2           ├\n",
       "           │  P(X) ││         │      │            │\n",
       "  state_3: ┤3      ├┤3        ├──────┤3           ├\n",
       "           │       ││         │      │            │\n",
       "  state_4: ┤4      ├┤4        ├──────┤4           ├\n",
       "           │       ││         │      │            │\n",
       "  state_5: ┤5      ├┤5        ├──────┤5           ├\n",
       "           └───────┘│         │┌────┐│            │\n",
       "objective: ─────────┤   adder ├┤3   ├┤   adder_dg ├\n",
       "                    │         ││    ││            │\n",
       "    sum_0: ─────────┤6        ├┤0   ├┤6           ├\n",
       "                    │         ││    ││            │\n",
       "    sum_1: ─────────┤7        ├┤1   ├┤7           ├\n",
       "                    │         ││    ││            │\n",
       "    sum_2: ─────────┤8        ├┤2   ├┤8           ├\n",
       "                    │         ││  F ││            │\n",
       "  carry_0: ─────────┤9        ├┤4   ├┤9           ├\n",
       "                    │         ││    ││            │\n",
       "  carry_1: ─────────┤10       ├┤5   ├┤10          ├\n",
       "                    │         ││    ││            │\n",
       "  control: ─────────┤11       ├┤    ├┤11          ├\n",
       "                    └─────────┘│    │└────────────┘\n",
       "     work: ────────────────────┤6   ├──────────────\n",
       "                               └────┘              </pre>"
      ],
      "text/plain": [
       "           ┌───────┐┌─────────┐      ┌────────────┐\n",
       "  state_0: ┤0      ├┤0        ├──────┤0           ├\n",
       "           │       ││         │      │            │\n",
       "  state_1: ┤1      ├┤1        ├──────┤1           ├\n",
       "           │       ││         │      │            │\n",
       "  state_2: ┤2      ├┤2        ├──────┤2           ├\n",
       "           │  P(X) ││         │      │            │\n",
       "  state_3: ┤3      ├┤3        ├──────┤3           ├\n",
       "           │       ││         │      │            │\n",
       "  state_4: ┤4      ├┤4        ├──────┤4           ├\n",
       "           │       ││         │      │            │\n",
       "  state_5: ┤5      ├┤5        ├──────┤5           ├\n",
       "           └───────┘│         │┌────┐│            │\n",
       "objective: ─────────┤   adder ├┤3   ├┤   adder_dg ├\n",
       "                    │         ││    ││            │\n",
       "    sum_0: ─────────┤6        ├┤0   ├┤6           ├\n",
       "                    │         ││    ││            │\n",
       "    sum_1: ─────────┤7        ├┤1   ├┤7           ├\n",
       "                    │         ││    ││            │\n",
       "    sum_2: ─────────┤8        ├┤2   ├┤8           ├\n",
       "                    │         ││  F ││            │\n",
       "  carry_0: ─────────┤9        ├┤4   ├┤9           ├\n",
       "                    │         ││    ││            │\n",
       "  carry_1: ─────────┤10       ├┤5   ├┤10          ├\n",
       "                    │         ││    ││            │\n",
       "  control: ─────────┤11       ├┤    ├┤11          ├\n",
       "                    └─────────┘│    │└────────────┘\n",
       "     work: ────────────────────┤6   ├──────────────\n",
       "                               └────┘              "
      ]
     },
     "execution_count": 67,
     "metadata": {},
     "output_type": "execute_result"
    }
   ],
   "source": [
    "# define the registers for convenience and readability\n",
    "qr_state = QuantumRegister(uncertainty_model.num_qubits, \"state\")\n",
    "qr_sum = QuantumRegister(agg.num_sum_qubits, \"sum\")\n",
    "qr_carry = QuantumRegister(agg.num_carry_qubits, \"carry\")\n",
    "qr_ctrl = QuantumRegister(agg.num_control_qubits, \"control\")\n",
    "qr_obj = QuantumRegister(1, \"objective\")\n",
    "qr_work = QuantumRegister(cvar_objective.num_ancillas - len(qr_carry), \"work\")\n",
    "\n",
    "# define the circuit\n",
    "state_preparation = QuantumCircuit(qr_state, qr_obj, qr_sum, qr_carry,qr_ctrl, qr_work, name=\"A\")\n",
    "\n",
    "# load the random variable\n",
    "state_preparation.append(uncertainty_model, qr_state)\n",
    "\n",
    "# aggregate\n",
    "state_preparation.append(agg, qr_state[:] + qr_sum[:] + qr_carry[:] + qr_ctrl[:])\n",
    "\n",
    "# linear objective function\n",
    "state_preparation.append(cvar_objective, qr_sum[:] + qr_obj[:] + qr_carry[:] + qr_work[:])\n",
    "\n",
    "# uncompute aggregation\n",
    "state_preparation.append(agg.inverse(), qr_state[:] + qr_sum[:] + qr_carry[:] +qr_ctrl[:])\n",
    "state_preparation.draw()"
   ]
  },
  {
   "cell_type": "code",
   "execution_count": 97,
   "id": "f501c675",
   "metadata": {},
   "outputs": [],
   "source": [
    "state_preparation_measure = state_preparation.measure_all(inplace=False)\n",
    "sampler = Sampler()\n",
    "job = sampler.run(state_preparation_measure)\n",
    "binary_probabilities = job.result().quasi_dists[0].binary_probabilities()\n"
   ]
  },
  {
   "cell_type": "code",
   "execution_count": 68,
   "id": "cf2cc443",
   "metadata": {},
   "outputs": [
    {
     "name": "stdout",
     "output_type": "stream",
     "text": [
      "Estimated CVaR: -119.5910\n",
      "Exact CVaR:     6.0000\n"
     ]
    }
   ],
   "source": [
    "# evaluate the result\n",
    "value = 0\n",
    "for i, prob in binary_probabilities.items():\n",
    "    if prob > 1e-6 and i[-(len(qr_state) + 1)] == \"1\":\n",
    "        value += prob\n",
    "\n",
    "# normalize and add VaR to estimate\n",
    "value = cvar_objective.post_processing(value)\n",
    "d = 1.0 - bisection_result[\"value\"]\n",
    "v = value / d if d != 0 else 0\n",
    "normalized_value = v + var\n",
    "print(\"Estimated CVaR: %.4f\" % normalized_value)\n",
    "print(\"Exact CVaR:     %.4f\" % exact_cvar)"
   ]
  },
  {
   "cell_type": "code",
   "execution_count": 69,
   "id": "3da0da10",
   "metadata": {},
   "outputs": [],
   "source": [
    "# set target precision and confidence level\n",
    "epsilon = 0.01\n",
    "alpha = 0.05\n",
    "\n",
    "problem = EstimationProblem(\n",
    "    state_preparation=state_preparation,\n",
    "    objective_qubits=[len(qr_state)],\n",
    "    post_processing=cvar_objective.post_processing,\n",
    ")\n",
    "# construct amplitude estimation\n",
    "ae_cvar = IterativeAmplitudeEstimation(\n",
    "    epsilon_target=epsilon, alpha=alpha, sampler=Sampler(run_options={\"shots\": 100})\n",
    ")\n",
    "result_cvar = ae_cvar.estimate(problem)"
   ]
  },
  {
   "cell_type": "code",
   "execution_count": 70,
   "id": "13cf8588",
   "metadata": {},
   "outputs": [
    {
     "name": "stdout",
     "output_type": "stream",
     "text": [
      "Exact CVaR:    \t6.0000\n",
      "Estimated CVaR:\t4.2097\n"
     ]
    }
   ],
   "source": [
    "# print results\n",
    "d = 1.0 - bisection_result[\"value\"]\n",
    "v = result_cvar.estimation_processed / d if d != 0 else 0\n",
    "print(\"Exact CVaR:    \\t%.4f\" % exact_cvar)\n",
    "print(\"Estimated CVaR:\\t%.4f\" % (v + var))"
   ]
  },
  {
   "cell_type": "code",
   "execution_count": 71,
   "id": "9ea2acbb",
   "metadata": {},
   "outputs": [
    {
     "name": "stdout",
     "output_type": "stream",
     "text": [
      "Exact CVaR:    \t6.0000\n",
      "Estimated CVaR:\t4.2027\n"
     ]
    }
   ],
   "source": [
    "#MaximumLikelihoodAmplitudeEstimation\n",
    "problem = EstimationProblem(\n",
    "    state_preparation=state_preparation,\n",
    "    objective_qubits=[len(qr_state)],\n",
    "    post_processing=cvar_objective.post_processing,\n",
    ")\n",
    "# construct amplitude estimation\n",
    "mle_ae_cvar = MaximumLikelihoodAmplitudeEstimation(\n",
    "    evaluation_schedule=3,sampler=Sampler(run_options={\"shots\": 100})\n",
    ")\n",
    "mle_result_cvar = mle_ae_cvar.estimate(problem)\n",
    "# print results\n",
    "d = 1.0 - bisection_result[\"value\"]\n",
    "v = mle_result_cvar.estimation_processed / d if d != 0 else 0\n",
    "print(\"Exact CVaR:    \\t%.4f\" % exact_cvar)\n",
    "print(\"Estimated CVaR:\\t%.4f\" % (v + var))"
   ]
  },
  {
   "cell_type": "code",
   "execution_count": 73,
   "id": "68741bbc",
   "metadata": {},
   "outputs": [
    {
     "name": "stdout",
     "output_type": "stream",
     "text": [
      "Exact CVaR:    \t6.0000\n",
      "Estimated CVaR:\t5.1534\n"
     ]
    }
   ],
   "source": [
    "#FasterAmplitudeEstimation\n",
    "problem = EstimationProblem(\n",
    "    state_preparation=state_preparation,\n",
    "    objective_qubits=[len(qr_state)],\n",
    "    post_processing=cvar_objective.post_processing,\n",
    ")\n",
    "# construct amplitude estimation\n",
    "fast_ae_cvar = FasterAmplitudeEstimation(\n",
    "    delta=0.01,  # target accuracy\n",
    "    maxiter=3,  # determines the maximal power of the Grover operator\n",
    "    sampler=Sampler(run_options={\"shots\": 100})\n",
    ")\n",
    "fast_result_cvar = fast_ae_cvar.estimate(problem)\n",
    "# print results\n",
    "d = 1.0 - bisection_result[\"value\"]\n",
    "v = fast_result_cvar.estimation_processed / d if d != 0 else 0\n",
    "print(\"Exact CVaR:    \\t%.4f\" % exact_cvar)\n",
    "print(\"Estimated CVaR:\\t%.4f\" % (v + var))"
   ]
  },
  {
   "cell_type": "code",
   "execution_count": 101,
   "id": "b31aac56",
   "metadata": {},
   "outputs": [
    {
     "data": {
      "text/plain": [
       "'\\n4 quantum bits\\nExact CVaR:    \\t3.0000\\nEstimated CVaR:\\t3.1683\\n'"
      ]
     },
     "execution_count": 101,
     "metadata": {},
     "output_type": "execute_result"
    }
   ],
   "source": [
    "\"\"\"\n",
    "2 quantum bits\n",
    "Exact CVaR:    \t3.0000\n",
    "Estimated CVaR:\t3.2102\n",
    "\"\"\"\n",
    "\n",
    "\n",
    "\"\"\"\n",
    "3 quantum bits\n",
    "Exact CVaR:    \t3.0000\n",
    "Estimated CVaR:\t3.1234\n",
    "\"\"\"\n",
    "\n",
    "\n",
    "\"\"\"\n",
    "4 quantum bits\n",
    "Exact CVaR:    \t3.0000\n",
    "Estimated CVaR:\t3.1683\n",
    "\"\"\""
   ]
  },
  {
   "cell_type": "code",
   "execution_count": null,
   "id": "129d4981",
   "metadata": {},
   "outputs": [],
   "source": []
  }
 ],
 "metadata": {
  "kernelspec": {
   "display_name": "Python 3 (ipykernel)",
   "language": "python",
   "name": "python3"
  },
  "language_info": {
   "codemirror_mode": {
    "name": "ipython",
    "version": 3
   },
   "file_extension": ".py",
   "mimetype": "text/x-python",
   "name": "python",
   "nbconvert_exporter": "python",
   "pygments_lexer": "ipython3",
   "version": "3.9.16"
  }
 },
 "nbformat": 4,
 "nbformat_minor": 5
}
