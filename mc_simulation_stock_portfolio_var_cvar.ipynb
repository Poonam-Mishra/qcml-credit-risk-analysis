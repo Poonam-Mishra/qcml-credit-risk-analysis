{
 "cells": [
  {
   "cell_type": "code",
   "execution_count": 16,
   "id": "c9d9e0bb",
   "metadata": {},
   "outputs": [],
   "source": [
    "import pandas as pd\n",
    "import numpy as np\n",
    "import datetime as dt\n",
    "from pandas_datareader import data as pdr #import pandas datareader\n",
    "\n",
    "import yfinance as yf # you will need to install it if haven't done it already\n",
    "\n",
    "#override the data reader function\n",
    "\n",
    "yf.pdr_override()"
   ]
  },
  {
   "cell_type": "code",
   "execution_count": 17,
   "id": "63a42efa",
   "metadata": {},
   "outputs": [],
   "source": [
    "#pip install pandas_datareader"
   ]
  },
  {
   "cell_type": "code",
   "execution_count": 18,
   "id": "80e674f4",
   "metadata": {},
   "outputs": [],
   "source": [
    "def generate_stock_data(stocks,start,end):\n",
    "    stocks_data = pdr.get_data_yahoo(stocks,start,end)\n",
    "    stocks_data = stocks_data['Close']\n",
    "    returns = stocks_data.pct_change()\n",
    "    mean_returns = returns.mean()\n",
    "    covariance_mat = returns.cov()\n",
    "    return mean_returns,covariance_mat"
   ]
  },
  {
   "cell_type": "code",
   "execution_count": 19,
   "id": "36774ceb",
   "metadata": {},
   "outputs": [],
   "source": [
    "stock_collection = ['BA', 'JPM', 'META', 'NIO']\n",
    "stocks = [stk  for stk in stock_collection]\n",
    "end_date = dt.datetime.now()\n",
    "start_date = end_date - dt.timedelta(days=300)"
   ]
  },
  {
   "cell_type": "code",
   "execution_count": 20,
   "id": "b750611e",
   "metadata": {},
   "outputs": [
    {
     "name": "stdout",
     "output_type": "stream",
     "text": [
      "[*********************100%***********************]  4 of 4 completed\n",
      "BA      0.003329\n",
      "JPM     0.001973\n",
      "META    0.004763\n",
      "NIO     0.000909\n",
      "dtype: float64\n",
      "            BA       JPM      META       NIO\n",
      "BA    0.000420  0.000119  0.000120  0.000318\n",
      "JPM   0.000119  0.000264  0.000111  0.000258\n",
      "META  0.000120  0.000111  0.001238  0.000562\n",
      "NIO   0.000318  0.000258  0.000562  0.002533\n"
     ]
    }
   ],
   "source": [
    "mean_returns , covariance_mat = generate_stock_data(stocks,start_date,end_date)\n",
    "print(mean_returns)\n",
    "print(covariance_mat)"
   ]
  },
  {
   "cell_type": "code",
   "execution_count": 21,
   "id": "a2d08b69",
   "metadata": {},
   "outputs": [
    {
     "name": "stdout",
     "output_type": "stream",
     "text": [
      "[0.09345517 0.26426246 0.20172669 0.44055569]\n"
     ]
    }
   ],
   "source": [
    "#weights for the portfolio \n",
    "weights = np.random.random(len(mean_returns))# it returns num b/w [0,1]\n",
    "weights /= np.sum(weights)\n",
    "print(weights)"
   ]
  },
  {
   "cell_type": "code",
   "execution_count": 26,
   "id": "81c3c19d",
   "metadata": {},
   "outputs": [],
   "source": [
    "#MC Simulation method\n",
    "num_mc_sims = 1000\n",
    "t_f=100# 100 day timeframe\n",
    "\n",
    "mean_returns_matrix_tf = np.full(shape=(t_f,len(weights)), fill_value=mean_returns)\n",
    "mean_returns_matrix_tf=mean_returns_matrix_tf.T\n",
    "portfolio_matrix_sims = np.full(shape=(t_f,num_mc_sims), fill_value=0.0)\n",
    "\n",
    "\"\"\"\n",
    "Here for daily returns we are using Cholesky decomposition method, \n",
    "when  we assume there is a multivariate\n",
    "normal distribution \n",
    "\"\"\"\n",
    "intital_protfolio_val = 10\n",
    "for m in range(0,num_mc_sims):\n",
    "    #MC iterations\n",
    "    z = np.random.normal(size=(t_f,len(weights))) #samples for a normal distribution \n",
    "    l = np.linalg.cholesky(covariance_mat) #Lower traiangular matrix from Cholesky decomposition\n",
    "    \n",
    "    daily_ret = mean_returns_matrix_tf + np.inner(l,z)# daily returns correlated for individual stocks\n",
    "    portfolio_matrix_sims[:,m] = np.cumprod(np.inner(weights,daily_ret.T))*intital_protfolio_val # portfolio for eah day \n",
    "    "
   ]
  },
  {
   "cell_type": "code",
   "execution_count": 28,
   "id": "00507c53",
   "metadata": {},
   "outputs": [
    {
     "data": {
      "image/png": "[encoded data removed]",
      "text/plain": [
       "<Figure size 800x200 with 1 Axes>"
      ]
     },
     "metadata": {},
     "output_type": "display_data"
    }
   ],
   "source": [
    "import matplotlib.pyplot as plt\n",
    "plt.figure(figsize=(8,2))\n",
    "plt.plot(portfolio_matrix_sims)\n",
    "plt.ylabel('Portfolio Value ($)')\n",
    "plt.xlabel('Days')\n",
    "plt.title('Monte Carlo Simulations of a Stock portfolio')\n",
    "plt.show()"
   ]
  },
  {
   "cell_type": "code",
   "execution_count": 11,
   "id": "1668243e",
   "metadata": {},
   "outputs": [
    {
     "data": {
      "text/plain": [
       "' as the number of simulations increases, \\nthe computation required to complete the method increases, \\nyou are aiming for a convergence to the ‘exact’ solution '"
      ]
     },
     "execution_count": 11,
     "metadata": {},
     "output_type": "execute_result"
    }
   ],
   "source": [
    "\"\"\" as the number of simulations increases, \n",
    "the computation required to complete the method increases, \n",
    "you are aiming for a convergence to the ‘exact’ solution \"\"\""
   ]
  },
  {
   "cell_type": "code",
   "execution_count": 12,
   "id": "965c8499",
   "metadata": {},
   "outputs": [],
   "source": [
    "#Finding Var and CVar"
   ]
  },
  {
   "cell_type": "code",
   "execution_count": 29,
   "id": "ce534003",
   "metadata": {},
   "outputs": [],
   "source": [
    "def mc_var(returns, alpha=5):\n",
    "    \"\"\"\n",
    "    returns : pandas series of returns\n",
    "    alpha: confidence leel\n",
    "    o/p: percentile on return distribution for given alpha\n",
    "    \"\"\"\n",
    "    if isinstance(returns,pd.Series):\n",
    "        return np.percentile(returns,alpha)\n",
    "    else:\n",
    "        raise TypeError(\"Not a pandas series\")\n",
    "#expected shortfall beyond the calculated loss        \n",
    "def mc_cvar(returns, alpha=5):\n",
    "    \"\"\"\n",
    "    returns : pandas series of returns\n",
    "    alpha: confidence leel\n",
    "    o/p: expected shortfall for given alpha\n",
    "    \"\"\"\n",
    "    if isinstance(returns,pd.Series):\n",
    "        below_var = returns <= mc_var(returns,alpha=alpha)#subsection of returns \n",
    "        return returns[below_var].mean()\n",
    "    else:\n",
    "        raise TypeError(\"Not a pandas series\")  \n",
    "        \n",
    "\n",
    "        "
   ]
  },
  {
   "cell_type": "code",
   "execution_count": 30,
   "id": "dfe022db",
   "metadata": {},
   "outputs": [],
   "source": [
    "portfolio_results = pd.Series(portfolio_matrix_sims[-1,:])#intesretd in last step T =100th\n",
    "var = intital_protfolio_val -  mc_var(portfolio_results,alpha=5)\n",
    "cvar = intital_protfolio_val - mc_var(portfolio_results,alpha=5)"
   ]
  },
  {
   "cell_type": "code",
   "execution_count": 31,
   "id": "be7d9572",
   "metadata": {},
   "outputs": [
    {
     "name": "stdout",
     "output_type": "stream",
     "text": [
      "Value at Risk $10.0\n",
      "Conditional Value at Risk $10.0\n"
     ]
    }
   ],
   "source": [
    "print('Value at Risk ${}'.format(round(var,2)))\n",
    "print('Conditional Value at Risk ${}'.format(round(cvar,2)))"
   ]
  },
  {
   "cell_type": "code",
   "execution_count": null,
   "id": "dfb27c68",
   "metadata": {},
   "outputs": [],
   "source": []
  },
  {
   "cell_type": "code",
   "execution_count": null,
   "id": "ae9dcef2",
   "metadata": {},
   "outputs": [],
   "source": []
  }
 ],
 "metadata": {
  "kernelspec": {
   "display_name": "Python 3 (ipykernel)",
   "language": "python",
   "name": "python3"
  },
  "language_info": {
   "codemirror_mode": {
    "name": "ipython",
    "version": 3
   },
   "file_extension": ".py",
   "mimetype": "text/x-python",
   "name": "python",
   "nbconvert_exporter": "python",
   "pygments_lexer": "ipython3",
   "version": "3.9.16"
  }
 },
 "nbformat": 4,
 "nbformat_minor": 5
}
