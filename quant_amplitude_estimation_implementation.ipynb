{
 "cells": [
  {
   "cell_type": "code",
   "execution_count": 1,
   "id": "c8e25046",
   "metadata": {},
   "outputs": [],
   "source": [
    "# fixing the probability which we want to estimate\n",
    "p = 0.2\n",
    "\n",
    "import numpy as np\n",
    "from qiskit.circuit import QuantumCircuit\n",
    "\n",
    "\n",
    "class BernoulliA(QuantumCircuit):\n",
    "    \"\"\"A circuit representing the Bernoulli A operator.\"\"\"\n",
    "\n",
    "    def __init__(self, probability):\n",
    "        super().__init__(1)  # circuit on 1 qubit\n",
    "\n",
    "        theta_p = 2 * np.arcsin(np.sqrt(probability))\n",
    "        self.ry(theta_p, 0)\n",
    "\n",
    "\n",
    "class BernoulliQ(QuantumCircuit):\n",
    "    \"\"\"A circuit representing the Bernoulli Q operator.\"\"\"\n",
    "\n",
    "    def __init__(self, probability):\n",
    "        super().__init__(1)  # circuit on 1 qubit\n",
    "\n",
    "        self._theta_p = 2 * np.arcsin(np.sqrt(probability))\n",
    "        self.ry(2 * self._theta_p, 0)\n",
    "\n",
    "    def power(self, k):\n",
    "        # implement the efficient power of Q\n",
    "        q_k = QuantumCircuit(1)\n",
    "        q_k.ry(2 * k * self._theta_p, 0)\n",
    "        return q_k"
   ]
  },
  {
   "cell_type": "code",
   "execution_count": 2,
   "id": "54991706",
   "metadata": {},
   "outputs": [],
   "source": [
    "A = BernoulliA(p)\n",
    "Q = BernoulliQ(p)"
   ]
  },
  {
   "cell_type": "code",
   "execution_count": 3,
   "id": "77a62089",
   "metadata": {},
   "outputs": [],
   "source": [
    "from qiskit.algorithms import EstimationProblem\n",
    "\n",
    "problem = EstimationProblem(\n",
    "    state_preparation=A,  # A operator\n",
    "    grover_operator=Q,  # Q operator\n",
    "    objective_qubits=[0],  # the \"good\" state Psi1 is identified as measuring |1> in qubit 0\n",
    ")\n",
    "from qiskit.primitives import Sampler\n",
    "\n",
    "sampler = Sampler()"
   ]
  },
  {
   "cell_type": "code",
   "execution_count": 4,
   "id": "4421f955",
   "metadata": {},
   "outputs": [
    {
     "name": "stdout",
     "output_type": "stream",
     "text": [
      "0.1464466\n"
     ]
    }
   ],
   "source": [
    "#original QAE implementation by Brassard\n",
    "from qiskit.algorithms import AmplitudeEstimation\n",
    "\n",
    "ae = AmplitudeEstimation(\n",
    "    num_eval_qubits=3,  # the number of evaluation qubits specifies circuit width and accuracy\n",
    "    sampler=sampler,\n",
    ")\n",
    "ae_result = ae.estimate(problem)\n",
    "print(ae_result.estimation)"
   ]
  },
  {
   "cell_type": "markdown",
   "id": "58a4bbca",
   "metadata": {},
   "source": [
    "Notes : \n",
    "1. Above estimate is not good as we use cacnonical QAE = Quantum Phase Estimation (QPE)8 + Grover’s Algorithm.\\\n",
    "2. QPE-based algorithms are believed to achieve exponential speedup, most prominently Shor’s Algorithm for factoring9, it has been speculated as to whether QAE can be simplified such that it uses only Grover iterations without a QPE-dependency.\\\n",
    "3. Removing the QPE-dependency would help to reduce the resource requirements of QAE in terms of qubits and circuit depth and lower the bar for practical applications of QAE."
   ]
  },
  {
   "cell_type": "code",
   "execution_count": 5,
   "id": "9f66c56d",
   "metadata": {},
   "outputs": [
    {
     "data": {
      "image/png": "[encoded data removed]",
      "text/plain": [
       "<Figure size 640x480 with 1 Axes>"
      ]
     },
     "metadata": {},
     "output_type": "display_data"
    }
   ],
   "source": [
    "import matplotlib.pyplot as plt\n",
    "\n",
    "# plot estimated values\n",
    "gridpoints = list(ae_result.samples.keys())\n",
    "probabilities = list(ae_result.samples.values())\n",
    "\n",
    "plt.bar(gridpoints, probabilities, width=0.5 / len(probabilities))\n",
    "plt.axvline(p, color=\"r\", ls=\"--\")\n",
    "plt.xticks(size=15)\n",
    "plt.yticks([0, 0.25, 0.5, 0.75, 1], size=15)\n",
    "plt.title(\"Estimated Values\", size=15)\n",
    "plt.ylabel(\"Probability\", size=15)\n",
    "plt.xlabel(r\"Amplitude $a$\", size=15)\n",
    "plt.ylim((0, 1))\n",
    "plt.grid()\n",
    "plt.show()"
   ]
  },
  {
   "cell_type": "code",
   "execution_count": 6,
   "id": "0a06f4d0",
   "metadata": {},
   "outputs": [
    {
     "name": "stdout",
     "output_type": "stream",
     "text": [
      "Interpolated MLE estimator: 0.19999999497921261\n"
     ]
    }
   ],
   "source": [
    "#To improve the estimate we can interpolate the measurement probabilities and compute the maximum likelihood estimator that produces this probability distribution:\n",
    "\n",
    "print(\"Interpolated MLE estimator:\", ae_result.mle)"
   ]
  },
  {
   "cell_type": "code",
   "execution_count": 13,
   "id": "0895168d",
   "metadata": {},
   "outputs": [
    {
     "data": {
      "text/html": [
       "<pre style=\"word-wrap: normal;white-space: pre;background: #fff0;line-height: 1.1;font-family: &quot;Courier New&quot;,Courier,monospace\">              ┌───┐                                                   »\n",
       "eval_0: ──────┤ H ├─────────────■─────────────────────────────────────»\n",
       "              ├───┤             │                                     »\n",
       "eval_1: ──────┤ H ├─────────────┼──────────────■──────────────────────»\n",
       "              ├───┤             │              │                      »\n",
       "eval_2: ──────┤ H ├─────────────┼──────────────┼──────────────■───────»\n",
       "        ┌─────┴───┴─────┐┌──────┴──────┐┌──────┴──────┐┌──────┴──────┐»\n",
       "     q: ┤ R(0.9273,π/2) ├┤ circuit-328 ├┤ circuit-337 ├┤ circuit-346 ├»\n",
       "        └───────────────┘└─────────────┘└─────────────┘└─────────────┘»\n",
       "«        ┌──────────┐\n",
       "«eval_0: ┤2         ├\n",
       "«        │          │\n",
       "«eval_1: ┤1 IQFT_dg ├\n",
       "«        │          │\n",
       "«eval_2: ┤0         ├\n",
       "«        └──────────┘\n",
       "«     q: ────────────\n",
       "«                    </pre>"
      ],
      "text/plain": [
       "              ┌───┐                                                   »\n",
       "eval_0: ──────┤ H ├─────────────■─────────────────────────────────────»\n",
       "              ├───┤             │                                     »\n",
       "eval_1: ──────┤ H ├─────────────┼──────────────■──────────────────────»\n",
       "              ├───┤             │              │                      »\n",
       "eval_2: ──────┤ H ├─────────────┼──────────────┼──────────────■───────»\n",
       "        ┌─────┴───┴─────┐┌──────┴──────┐┌──────┴──────┐┌──────┴──────┐»\n",
       "     q: ┤ R(0.9273,π/2) ├┤ circuit-328 ├┤ circuit-337 ├┤ circuit-346 ├»\n",
       "        └───────────────┘└─────────────┘└─────────────┘└─────────────┘»\n",
       "«        ┌──────────┐\n",
       "«eval_0: ┤2         ├\n",
       "«        │          │\n",
       "«eval_1: ┤1 IQFT_dg ├\n",
       "«        │          │\n",
       "«eval_2: ┤0         ├\n",
       "«        └──────────┘\n",
       "«     q: ────────────\n",
       "«                    "
      ]
     },
     "execution_count": 13,
     "metadata": {},
     "output_type": "execute_result"
    }
   ],
   "source": [
    "ae_circuit = ae.construct_circuit(problem)\n",
    "ae_circuit.decompose().draw()"
   ]
  },
  {
   "cell_type": "code",
   "execution_count": 15,
   "id": "560c0ff2",
   "metadata": {},
   "outputs": [
    {
     "data": {
      "text/html": [
       "<pre style=\"word-wrap: normal;white-space: pre;background: #fff0;line-height: 1.1;font-family: &quot;Courier New&quot;,Courier,monospace\">            ┌───┐     ┌──────┐                                               »\n",
       "eval_0: ────┤ H ├─────┤ P(0) ├──■────────────────────────────────────────────»\n",
       "            ├───┤     ├──────┤  │                                            »\n",
       "eval_1: ────┤ H ├─────┤ P(0) ├──┼────────────────────────────────────────────»\n",
       "            ├───┤     ├──────┤  │                                            »\n",
       "eval_2: ────┤ H ├─────┤ P(0) ├──┼────────────────────────────────────────────»\n",
       "        ┌───┴───┴────┐└──────┘┌─┴─┐┌─────┐┌───┐┌─────┐┌─────────────────────┐»\n",
       "     q: ┤ Ry(0.9273) ├────────┤ X ├┤ Sdg ├┤ H ├┤ Sdg ├┤ P(2.21429743558818) ├»\n",
       "        └────────────┘        └───┘└─────┘└───┘└─────┘└─────────────────────┘»\n",
       "«                                                                    »\n",
       "«eval_0: ──────────────────────────────■─────────────────────────────»\n",
       "«                                      │                             »\n",
       "«eval_1: ──────────────────────────────┼─────────────────────────────»\n",
       "«                                      │                             »\n",
       "«eval_2: ──────────────────────────────┼─────────────────────────────»\n",
       "«        ┌─────┐┌───┐┌─────┐┌───────┐┌─┴─┐┌──────┐┌─────┐┌───┐┌─────┐»\n",
       "«     q: ┤ Sdg ├┤ H ├┤ Sdg ├┤ P(3π) ├┤ X ├┤ P(0) ├┤ Sdg ├┤ H ├┤ Sdg ├»\n",
       "«        └─────┘└───┘└─────┘└───────┘└───┘└──────┘└─────┘└───┘└─────┘»\n",
       "«                                                                            »\n",
       "«eval_0: ────────────────────────────────────────────────────────────────────»\n",
       "«                                                                            »\n",
       "«eval_1: ─────────────────────────────────────────────────────■──────────────»\n",
       "«                                                             │              »\n",
       "«eval_2: ─────────────────────────────────────────────────────┼──────────────»\n",
       "«        ┌─────────────────────┐┌─────┐┌───┐┌─────┐┌───────┐┌─┴─┐┌─────┐┌───┐»\n",
       "«     q: ┤ P(4.06888787159141) ├┤ Sdg ├┤ H ├┤ Sdg ├┤ P(3π) ├┤ X ├┤ Sdg ├┤ H ├»\n",
       "«        └─────────────────────┘└─────┘└───┘└─────┘└───────┘└───┘└─────┘└───┘»\n",
       "«                                                                       »\n",
       "«eval_0: ───────────────────────────────────────────────────────────────»\n",
       "«                                                                       »\n",
       "«eval_1: ────────────────────────────────────────────────────────────■──»\n",
       "«                                                                    │  »\n",
       "«eval_2: ────────────────────────────────────────────────────────────┼──»\n",
       "«        ┌─────┐┌─────────────────────┐┌─────┐┌───┐┌─────┐┌───────┐┌─┴─┐»\n",
       "«     q: ┤ Sdg ├┤ P(1.28700221758657) ├┤ Sdg ├┤ H ├┤ Sdg ├┤ P(3π) ├┤ X ├»\n",
       "«        └─────┘└─────────────────────┘└─────┘└───┘└─────┘└───────┘└───┘»\n",
       "«                                                                             »\n",
       "«eval_0: ─────────────────────────────────────────────────────────────────────»\n",
       "«                                                                             »\n",
       "«eval_1: ─────────────────────────────────────────────────────────────────────»\n",
       "«                                                                             »\n",
       "«eval_2: ─────────────────────────────────────────────────────────────────────»\n",
       "«        ┌──────┐┌─────┐┌───┐┌─────┐┌─────────────────────┐┌─────┐┌───┐┌─────┐»\n",
       "«     q: ┤ P(0) ├┤ Sdg ├┤ H ├┤ Sdg ├┤ P(4.99618308959302) ├┤ Sdg ├┤ H ├┤ Sdg ├»\n",
       "«        └──────┘└─────┘└───┘└─────┘└─────────────────────┘└─────┘└───┘└─────┘»\n",
       "«                                                                              »\n",
       "«eval_0: ──────────────────────────────────────────────────────────────────────»\n",
       "«                                                                              »\n",
       "«eval_1: ──────────────────────────────────────────────────────────────────────»\n",
       "«                                                                              »\n",
       "«eval_2: ───────────■──────────────────────────────────────────────────────────»\n",
       "«        ┌───────┐┌─┴─┐┌─────┐┌───┐┌─────┐┌───────────────────────┐┌─────┐┌───┐»\n",
       "«     q: ┤ P(3π) ├┤ X ├┤ Sdg ├┤ H ├┤ Sdg ├┤ P(-0.567588218416656) ├┤ Sdg ├┤ H ├»\n",
       "«        └───────┘└───┘└─────┘└───┘└─────┘└───────────────────────┘└─────┘└───┘»\n",
       "«                                                                »\n",
       "«eval_0: ────────────────────────────────────────■───────────────»\n",
       "«                                                │         ┌───┐ »\n",
       "«eval_1: ──────────────────────────────■─────────┼─────────┤ H ├─»\n",
       "«                              ┌───┐   │P(-π/2)  │P(-π/4)  └───┘ »\n",
       "«eval_2: ──────────────────■───┤ H ├───■─────────■───────────────»\n",
       "«        ┌─────┐┌───────┐┌─┴─┐┌┴───┴─┐ ┌─────┐    ┌───┐   ┌─────┐»\n",
       "«     q: ┤ Sdg ├┤ P(3π) ├┤ X ├┤ P(0) ├─┤ Sdg ├────┤ H ├───┤ Sdg ├»\n",
       "«        └─────┘└───────┘└───┘└──────┘ └─────┘    └───┘   └─────┘»\n",
       "«                                ┌───┐                      \n",
       "«eval_0: ────────■───────────────┤ H ├──────────────────────\n",
       "«                │P(-π/2)        └───┘                      \n",
       "«eval_1: ────────■──────────────────────────────────────────\n",
       "«                                                           \n",
       "«eval_2: ───────────────────────────────────────────────────\n",
       "«        ┌─────────────────────┐┌─────┐┌───┐┌─────┐┌───────┐\n",
       "«     q: ┤ P(6.85077352559624) ├┤ Sdg ├┤ H ├┤ Sdg ├┤ P(3π) ├\n",
       "«        └─────────────────────┘└─────┘└───┘└─────┘└───────┘</pre>"
      ],
      "text/plain": [
       "            ┌───┐     ┌──────┐                                               »\n",
       "eval_0: ────┤ H ├─────┤ P(0) ├──■────────────────────────────────────────────»\n",
       "            ├───┤     ├──────┤  │                                            »\n",
       "eval_1: ────┤ H ├─────┤ P(0) ├──┼────────────────────────────────────────────»\n",
       "            ├───┤     ├──────┤  │                                            »\n",
       "eval_2: ────┤ H ├─────┤ P(0) ├──┼────────────────────────────────────────────»\n",
       "        ┌───┴───┴────┐└──────┘┌─┴─┐┌─────┐┌───┐┌─────┐┌─────────────────────┐»\n",
       "     q: ┤ Ry(0.9273) ├────────┤ X ├┤ Sdg ├┤ H ├┤ Sdg ├┤ P(2.21429743558818) ├»\n",
       "        └────────────┘        └───┘└─────┘└───┘└─────┘└─────────────────────┘»\n",
       "«                                                                    »\n",
       "«eval_0: ──────────────────────────────■─────────────────────────────»\n",
       "«                                      │                             »\n",
       "«eval_1: ──────────────────────────────┼─────────────────────────────»\n",
       "«                                      │                             »\n",
       "«eval_2: ──────────────────────────────┼─────────────────────────────»\n",
       "«        ┌─────┐┌───┐┌─────┐┌───────┐┌─┴─┐┌──────┐┌─────┐┌───┐┌─────┐»\n",
       "«     q: ┤ Sdg ├┤ H ├┤ Sdg ├┤ P(3π) ├┤ X ├┤ P(0) ├┤ Sdg ├┤ H ├┤ Sdg ├»\n",
       "«        └─────┘└───┘└─────┘└───────┘└───┘└──────┘└─────┘└───┘└─────┘»\n",
       "«                                                                            »\n",
       "«eval_0: ────────────────────────────────────────────────────────────────────»\n",
       "«                                                                            »\n",
       "«eval_1: ─────────────────────────────────────────────────────■──────────────»\n",
       "«                                                             │              »\n",
       "«eval_2: ─────────────────────────────────────────────────────┼──────────────»\n",
       "«        ┌─────────────────────┐┌─────┐┌───┐┌─────┐┌───────┐┌─┴─┐┌─────┐┌───┐»\n",
       "«     q: ┤ P(4.06888787159141) ├┤ Sdg ├┤ H ├┤ Sdg ├┤ P(3π) ├┤ X ├┤ Sdg ├┤ H ├»\n",
       "«        └─────────────────────┘└─────┘└───┘└─────┘└───────┘└───┘└─────┘└───┘»\n",
       "«                                                                       »\n",
       "«eval_0: ───────────────────────────────────────────────────────────────»\n",
       "«                                                                       »\n",
       "«eval_1: ────────────────────────────────────────────────────────────■──»\n",
       "«                                                                    │  »\n",
       "«eval_2: ────────────────────────────────────────────────────────────┼──»\n",
       "«        ┌─────┐┌─────────────────────┐┌─────┐┌───┐┌─────┐┌───────┐┌─┴─┐»\n",
       "«     q: ┤ Sdg ├┤ P(1.28700221758657) ├┤ Sdg ├┤ H ├┤ Sdg ├┤ P(3π) ├┤ X ├»\n",
       "«        └─────┘└─────────────────────┘└─────┘└───┘└─────┘└───────┘└───┘»\n",
       "«                                                                             »\n",
       "«eval_0: ─────────────────────────────────────────────────────────────────────»\n",
       "«                                                                             »\n",
       "«eval_1: ─────────────────────────────────────────────────────────────────────»\n",
       "«                                                                             »\n",
       "«eval_2: ─────────────────────────────────────────────────────────────────────»\n",
       "«        ┌──────┐┌─────┐┌───┐┌─────┐┌─────────────────────┐┌─────┐┌───┐┌─────┐»\n",
       "«     q: ┤ P(0) ├┤ Sdg ├┤ H ├┤ Sdg ├┤ P(4.99618308959302) ├┤ Sdg ├┤ H ├┤ Sdg ├»\n",
       "«        └──────┘└─────┘└───┘└─────┘└─────────────────────┘└─────┘└───┘└─────┘»\n",
       "«                                                                              »\n",
       "«eval_0: ──────────────────────────────────────────────────────────────────────»\n",
       "«                                                                              »\n",
       "«eval_1: ──────────────────────────────────────────────────────────────────────»\n",
       "«                                                                              »\n",
       "«eval_2: ───────────■──────────────────────────────────────────────────────────»\n",
       "«        ┌───────┐┌─┴─┐┌─────┐┌───┐┌─────┐┌───────────────────────┐┌─────┐┌───┐»\n",
       "«     q: ┤ P(3π) ├┤ X ├┤ Sdg ├┤ H ├┤ Sdg ├┤ P(-0.567588218416656) ├┤ Sdg ├┤ H ├»\n",
       "«        └───────┘└───┘└─────┘└───┘└─────┘└───────────────────────┘└─────┘└───┘»\n",
       "«                                                                »\n",
       "«eval_0: ────────────────────────────────────────■───────────────»\n",
       "«                                                │         ┌───┐ »\n",
       "«eval_1: ──────────────────────────────■─────────┼─────────┤ H ├─»\n",
       "«                              ┌───┐   │P(-π/2)  │P(-π/4)  └───┘ »\n",
       "«eval_2: ──────────────────■───┤ H ├───■─────────■───────────────»\n",
       "«        ┌─────┐┌───────┐┌─┴─┐┌┴───┴─┐ ┌─────┐    ┌───┐   ┌─────┐»\n",
       "«     q: ┤ Sdg ├┤ P(3π) ├┤ X ├┤ P(0) ├─┤ Sdg ├────┤ H ├───┤ Sdg ├»\n",
       "«        └─────┘└───────┘└───┘└──────┘ └─────┘    └───┘   └─────┘»\n",
       "«                                ┌───┐                      \n",
       "«eval_0: ────────■───────────────┤ H ├──────────────────────\n",
       "«                │P(-π/2)        └───┘                      \n",
       "«eval_1: ────────■──────────────────────────────────────────\n",
       "«                                                           \n",
       "«eval_2: ───────────────────────────────────────────────────\n",
       "«        ┌─────────────────────┐┌─────┐┌───┐┌─────┐┌───────┐\n",
       "«     q: ┤ P(6.85077352559624) ├┤ Sdg ├┤ H ├┤ Sdg ├┤ P(3π) ├\n",
       "«        └─────────────────────┘└─────┘└───┘└─────┘└───────┘"
      ]
     },
     "execution_count": 15,
     "metadata": {},
     "output_type": "execute_result"
    }
   ],
   "source": [
    "from qiskit import transpile\n",
    "\n",
    "\n",
    "basis_gates = [\"h\", \"ry\", \"cry\", \"cx\", \"ccx\", \"p\", \"cp\", \"x\", \"s\", \"sdg\", \"y\", \"t\", \"cz\"]\n",
    "transpile(ae_circuit, basis_gates=basis_gates, optimization_level=2).draw()"
   ]
  },
  {
   "cell_type": "code",
   "execution_count": 16,
   "id": "4abba913",
   "metadata": {},
   "outputs": [
    {
     "name": "stdout",
     "output_type": "stream",
     "text": [
      "Estimate: 0.2\n"
     ]
    }
   ],
   "source": [
    "#Iterative Amplitude Estimation\n",
    "from qiskit.algorithms import IterativeAmplitudeEstimation\n",
    "\n",
    "iae = IterativeAmplitudeEstimation(\n",
    "    epsilon_target=0.01,  # target accuracy\n",
    "    alpha=0.05,  # width of the confidence interval\n",
    "    sampler=sampler,\n",
    ")\n",
    "iae_result = iae.estimate(problem)\n",
    "\n",
    "print(\"Estimate:\", iae_result.estimation)"
   ]
  },
  {
   "cell_type": "code",
   "execution_count": 18,
   "id": "ae500a3d",
   "metadata": {},
   "outputs": [
    {
     "data": {
      "text/html": [
       "<pre style=\"word-wrap: normal;white-space: pre;background: #fff0;line-height: 1.1;font-family: &quot;Courier New&quot;,Courier,monospace\">   ┌────────────┐┌────────────┐\n",
       "q: ┤ Ry(0.9273) ├┤ Ry(5.5638) ├\n",
       "   └────────────┘└────────────┘</pre>"
      ],
      "text/plain": [
       "   ┌────────────┐┌────────────┐\n",
       "q: ┤ Ry(0.9273) ├┤ Ry(5.5638) ├\n",
       "   └────────────┘└────────────┘"
      ]
     },
     "execution_count": 18,
     "metadata": {},
     "output_type": "execute_result"
    }
   ],
   "source": [
    "iae_circuit = iae.construct_circuit(problem, k=3)\n",
    "iae_circuit.draw()"
   ]
  },
  {
   "cell_type": "code",
   "execution_count": 20,
   "id": "6a9ff31c",
   "metadata": {},
   "outputs": [
    {
     "name": "stdout",
     "output_type": "stream",
     "text": [
      "Estimate: 0.20002237175368104\n"
     ]
    }
   ],
   "source": [
    "#Maximum Likelihood Amplitude Estimation\n",
    "from qiskit.algorithms import MaximumLikelihoodAmplitudeEstimation\n",
    "\n",
    "mlae = MaximumLikelihoodAmplitudeEstimation(\n",
    "    evaluation_schedule=3,  # log2 of the maximal Grover power\n",
    "    sampler=sampler,\n",
    ")\n",
    "mlae_result = mlae.estimate(problem)\n",
    "\n",
    "print(\"Estimate:\", mlae_result.estimation)"
   ]
  },
  {
   "cell_type": "code",
   "execution_count": 21,
   "id": "94e874dd",
   "metadata": {},
   "outputs": [
    {
     "name": "stdout",
     "output_type": "stream",
     "text": [
      "Estimate: 0.20077949803426834\n"
     ]
    },
    {
     "name": "stderr",
     "output_type": "stream",
     "text": [
      "/Users/pmishra4/opt/anaconda3/envs/QCQML/lib/python3.9/site-packages/qiskit/algorithms/amplitude_estimators/estimation_problem.py:195: UserWarning: Rescaling discards the Grover operator.\n",
      "  warnings.warn(\"Rescaling discards the Grover operator.\")\n"
     ]
    }
   ],
   "source": [
    "#Faster Amplitude Estimation\n",
    "from qiskit.algorithms import FasterAmplitudeEstimation\n",
    "\n",
    "fae = FasterAmplitudeEstimation(\n",
    "    delta=0.01,  # target accuracy\n",
    "    maxiter=3,  # determines the maximal power of the Grover operator\n",
    "    sampler=sampler,\n",
    ")\n",
    "fae_result = fae.estimate(problem)\n",
    "\n",
    "print(\"Estimate:\", fae_result.estimation)"
   ]
  },
  {
   "cell_type": "code",
   "execution_count": null,
   "id": "4157a641",
   "metadata": {},
   "outputs": [],
   "source": []
  }
 ],
 "metadata": {
  "kernelspec": {
   "display_name": "Python 3 (ipykernel)",
   "language": "python",
   "name": "python3"
  },
  "language_info": {
   "codemirror_mode": {
    "name": "ipython",
    "version": 3
   },
   "file_extension": ".py",
   "mimetype": "text/x-python",
   "name": "python",
   "nbconvert_exporter": "python",
   "pygments_lexer": "ipython3",
   "version": "3.9.16"
  }
 },
 "nbformat": 4,
 "nbformat_minor": 5
}
